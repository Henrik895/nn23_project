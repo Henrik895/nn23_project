{
 "cells": [
  {
   "cell_type": "code",
   "execution_count": 15,
   "metadata": {},
   "outputs": [],
   "source": [
    "import json\n",
    "import cv2\n",
    "import pandas as pd"
   ]
  },
  {
   "cell_type": "code",
   "execution_count": 16,
   "metadata": {},
   "outputs": [],
   "source": [
    "results_file = './results.json'\n",
    "labels_dir = './test/unit_labels/test/'\n",
    "img_dir = './test/images/test/'"
   ]
  },
  {
   "cell_type": "code",
   "execution_count": 17,
   "metadata": {},
   "outputs": [],
   "source": [
    "with open(results_file, 'r') as fp:\n",
    "    results = json.load(fp)"
   ]
  },
  {
   "cell_type": "code",
   "execution_count": 18,
   "metadata": {},
   "outputs": [],
   "source": [
    "for i, row in enumerate(results):\n",
    "    for s in row['symbols']:\n",
    "        s['used'] = 0"
   ]
  },
  {
   "cell_type": "code",
   "execution_count": 19,
   "metadata": {},
   "outputs": [],
   "source": [
    "column_names = [\"actual\", \"predicted\", \"correct\", \"incorrect\", \"missed\"] #, \"x1\", \"x2\", \"y1\", \"y2\"]\n",
    "df = pd.DataFrame(columns=column_names)\n",
    "for i, row in enumerate(results):\n",
    "    cur_img = row['img'].strip()\n",
    "    img = cv2.imread(f\"{img_dir}{cur_img}\")\n",
    "    img_txt = cur_img.split('.')[0] + '.txt'\n",
    "    with open(f'{labels_dir}{img_txt}') as fp:\n",
    "        for line in fp:\n",
    "            splits = line.strip().split(\" \")\n",
    "            x_c, y_c, h, w = map(float, splits[1:])\n",
    "            actual = splits[0].strip().split(\"__\")[1:]\n",
    "            height, width, channels = img.shape\n",
    "            x_c, y_c, w, h = float(x_c)*width, float(y_c)*height, float(w)*width, float(h)*height\n",
    "            \n",
    "            predicted = []\n",
    "            for s in row['symbols']:\n",
    "                if s['used'] == 0:\n",
    "                    if s['xmin'] <= x_c and x_c <= s['xmax'] and s['ymin'] <= y_c and y_c <= s['ymax']:\n",
    "                        predicted = s['labels']\n",
    "                        s['used'] = 1\n",
    "                        break\n",
    "            \n",
    "            dif = set(actual) - set(predicted)\n",
    "            missed = len(dif)\n",
    "            correct = len(actual) - missed\n",
    "            incorrect = len(predicted) - correct\n",
    "                        \n",
    "            df = pd.concat([df, pd.DataFrame([[actual, predicted, correct, incorrect, missed]], columns=column_names)], ignore_index=True)\n",
    "for row in results:\n",
    "    for s in row['symbols']:\n",
    "        if s['used'] == 0:\n",
    "            df = pd.concat([df, pd.DataFrame([[[], s['labels'], 0, 0, len(s['labels'])]], columns=column_names)], ignore_index=True)\n"
   ]
  },
  {
   "cell_type": "code",
   "execution_count": 20,
   "metadata": {},
   "outputs": [
    {
     "data": {
      "text/html": [
       "<div>\n",
       "<style scoped>\n",
       "    .dataframe tbody tr th:only-of-type {\n",
       "        vertical-align: middle;\n",
       "    }\n",
       "\n",
       "    .dataframe tbody tr th {\n",
       "        vertical-align: top;\n",
       "    }\n",
       "\n",
       "    .dataframe thead th {\n",
       "        text-align: right;\n",
       "    }\n",
       "</style>\n",
       "<table border=\"1\" class=\"dataframe\">\n",
       "  <thead>\n",
       "    <tr style=\"text-align: right;\">\n",
       "      <th></th>\n",
       "      <th>actual</th>\n",
       "      <th>predicted</th>\n",
       "      <th>correct</th>\n",
       "      <th>incorrect</th>\n",
       "      <th>missed</th>\n",
       "    </tr>\n",
       "  </thead>\n",
       "  <tbody>\n",
       "    <tr>\n",
       "      <th>0</th>\n",
       "      <td>[mortar, company]</td>\n",
       "      <td>[mortar, company]</td>\n",
       "      <td>2</td>\n",
       "      <td>0</td>\n",
       "      <td>0</td>\n",
       "    </tr>\n",
       "    <tr>\n",
       "      <th>1</th>\n",
       "      <td>[supply, armour, company]</td>\n",
       "      <td>[armour, company]</td>\n",
       "      <td>2</td>\n",
       "      <td>0</td>\n",
       "      <td>1</td>\n",
       "    </tr>\n",
       "    <tr>\n",
       "      <th>2</th>\n",
       "      <td>[armour, half-platoon]</td>\n",
       "      <td>[company]</td>\n",
       "      <td>0</td>\n",
       "      <td>1</td>\n",
       "      <td>2</td>\n",
       "    </tr>\n",
       "    <tr>\n",
       "      <th>3</th>\n",
       "      <td>[infantry, company]</td>\n",
       "      <td>[company]</td>\n",
       "      <td>1</td>\n",
       "      <td>0</td>\n",
       "      <td>1</td>\n",
       "    </tr>\n",
       "    <tr>\n",
       "      <th>4</th>\n",
       "      <td>[supply, squad]</td>\n",
       "      <td>[company]</td>\n",
       "      <td>0</td>\n",
       "      <td>1</td>\n",
       "      <td>2</td>\n",
       "    </tr>\n",
       "  </tbody>\n",
       "</table>\n",
       "</div>"
      ],
      "text/plain": [
       "                      actual          predicted correct incorrect missed\n",
       "0          [mortar, company]  [mortar, company]       2         0      0\n",
       "1  [supply, armour, company]  [armour, company]       2         0      1\n",
       "2     [armour, half-platoon]          [company]       0         1      2\n",
       "3        [infantry, company]          [company]       1         0      1\n",
       "4            [supply, squad]          [company]       0         1      2"
      ]
     },
     "execution_count": 20,
     "metadata": {},
     "output_type": "execute_result"
    }
   ],
   "source": [
    "df.head()"
   ]
  },
  {
   "cell_type": "code",
   "execution_count": null,
   "metadata": {},
   "outputs": [],
   "source": []
  }
 ],
 "metadata": {
  "kernelspec": {
   "display_name": "Python 3",
   "language": "python",
   "name": "python3"
  },
  "language_info": {
   "codemirror_mode": {
    "name": "ipython",
    "version": 3
   },
   "file_extension": ".py",
   "mimetype": "text/x-python",
   "name": "python",
   "nbconvert_exporter": "python",
   "pygments_lexer": "ipython3",
   "version": "3.10.7"
  },
  "orig_nbformat": 4
 },
 "nbformat": 4,
 "nbformat_minor": 2
}
