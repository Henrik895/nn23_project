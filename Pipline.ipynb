{
  "nbformat": 4,
  "nbformat_minor": 0,
  "metadata": {
    "colab": {
      "provenance": []
    },
    "kernelspec": {
      "name": "python3",
      "display_name": "Python 3"
    },
    "language_info": {
      "name": "python"
    }
  },
  "cells": [
    {
      "cell_type": "code",
      "source": [
        "!git clone https://github.com/ultralytics/yolov5.git -q"
      ],
      "metadata": {
        "id": "77A_JXqY6Pjq"
      },
      "execution_count": 1,
      "outputs": []
    },
    {
      "cell_type": "code",
      "source": [
        "!pip install -r yolov5/requirements.txt -q"
      ],
      "metadata": {
        "colab": {
          "base_uri": "https://localhost:8080/"
        },
        "id": "tcPivgWe6QlB",
        "outputId": "58b3dc89-4cb0-4f51-fe9c-45135ad3b0ee"
      },
      "execution_count": 2,
      "outputs": [
        {
          "output_type": "stream",
          "name": "stdout",
          "text": [
            "\u001b[2K     \u001b[90m━━━━━━━━━━━━━━━━━━━━━━━━━━━━━━━━━━━━━━━\u001b[0m \u001b[32m184.3/184.3 kB\u001b[0m \u001b[31m4.5 MB/s\u001b[0m eta \u001b[36m0:00:00\u001b[0m\n",
            "\u001b[2K     \u001b[90m━━━━━━━━━━━━━━━━━━━━━━━━━━━━━━━━━━━━━━\u001b[0m \u001b[32m586.5/586.5 kB\u001b[0m \u001b[31m17.3 MB/s\u001b[0m eta \u001b[36m0:00:00\u001b[0m\n",
            "\u001b[2K     \u001b[90m━━━━━━━━━━━━━━━━━━━━━━━━━━━━━━━━━━━━━━━━\u001b[0m \u001b[32m62.7/62.7 kB\u001b[0m \u001b[31m5.3 MB/s\u001b[0m eta \u001b[36m0:00:00\u001b[0m\n",
            "\u001b[2K     \u001b[90m━━━━━━━━━━━━━━━━━━━━━━━━━━━━━━━━━━━━━━\u001b[0m \u001b[32m205.1/205.1 kB\u001b[0m \u001b[31m14.9 MB/s\u001b[0m eta \u001b[36m0:00:00\u001b[0m\n",
            "\u001b[?25h"
          ]
        }
      ]
    },
    {
      "cell_type": "code",
      "source": [
        "import os\n",
        "import cv2\n",
        "import numpy as np\n",
        "import pandas as pd\n",
        "import torch\n",
        "import pickle\n",
        "import time"
      ],
      "metadata": {
        "id": "ucbJBeNC73IM"
      },
      "execution_count": 42,
      "outputs": []
    },
    {
      "cell_type": "code",
      "source": [
        "# Model imports\n",
        "\n",
        "#upload model.pt from yolo/one_class\n",
        "yolo_model =  torch.hub.load('yolov5', 'custom', 'model.pt', source='local') \n",
        "#upload cnn model of your choice\n",
        "lenet_model = pickle.load(open(\"infantry.pkl\", 'rb'))\n",
        "\n",
        "# Configurations\n",
        "#class_names = pd.read_csv('classes.csv', index_col=0)\n",
        "crop_shape = (64,64)"
      ],
      "metadata": {
        "id": "Y1QtIF2U73OA"
      },
      "execution_count": null,
      "outputs": []
    },
    {
      "cell_type": "code",
      "execution_count": 40,
      "metadata": {
        "id": "wtnvaPHb6Gyd"
      },
      "outputs": [],
      "source": [
        "def locate_unit_symbols(canvas):\n",
        "    start = time.perf_counter()\n",
        "    located_symbols = yolo_model(canvas)\n",
        "    #print(time.perf_counter()-start)\n",
        "    return located_symbols\n",
        "\n",
        "def classify(canvas, d):\n",
        "    # Crop\n",
        "    unit_symbol = canvas[int(d.ymin):int(np.ceil(d.ymax)), int(d.xmin):int(np.ceil(d.xmax))]\n",
        "    # Resize the crop into correct size\n",
        "    resized_unit_symbol = cv2.resize(unit_symbol, crop_shape, interpolation=cv2.INTER_AREA)\n",
        "    # Predict correct class\n",
        "    pred_class = lenet_model.predict(np.array([resized_unit_symbol]), verbose=0)\n",
        "    return pred_class\n",
        "\n",
        "def draw_rectangle(canvas, d, pred_class):\n",
        "    new_canvas = canvas#.copy()\n",
        "    #Draw a rectange\n",
        "    cv2.rectangle(new_canvas, (int(d.xmin), int(d.ymin)), (int(np.ceil(d.xmax)), int(np.ceil(d.ymax))), (255,0,0), 2)\n",
        "    #Add label\n",
        "    new_canvas = cv2.putText(new_canvas, str(pred_class[0].argmax()), (int(d.xmin)-10, int(d.ymin)-10),\n",
        "                              cv2.FONT_HERSHEY_SIMPLEX, 0.7, (255, 0, 0), 1, cv2.LINE_AA)\n",
        "    return new_canvas\n",
        "\n",
        "def main():\n",
        "    # Test images should be in the \"images\" folder\n",
        "    img_dir = \"images\"\n",
        "    # Images with predictions will be in the \"images_pred\" folder\n",
        "    save_dir = img_dir + \"_pred\"\n",
        "    if not os.path.exists(save_dir):\n",
        "        os.makedirs(save_dir)\n",
        "\n",
        "    for img in os.listdir(img_dir):\n",
        "        if \"img\" in img:\n",
        "          canvas = cv2.imread(img_dir+'/'+img)\n",
        "\n",
        "          symbol_locs = locate_unit_symbols(canvas)\n",
        "\n",
        "          for i, d in symbol_locs.pandas().xyxy[0].iterrows():\n",
        "              pred_class = classify(canvas, d) \n",
        "              new_canvas = draw_rectangle(canvas, d, pred_class)\n",
        "              \n",
        "          cv2.imwrite(f\"{save_dir}/{img}\", new_canvas)"
      ]
    },
    {
      "cell_type": "code",
      "source": [
        "main()"
      ],
      "metadata": {
        "id": "hLXPP1rS7GTI"
      },
      "execution_count": null,
      "outputs": []
    }
  ]
}