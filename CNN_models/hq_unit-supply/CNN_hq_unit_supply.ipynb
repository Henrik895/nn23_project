{
  "nbformat": 4,
  "nbformat_minor": 0,
  "metadata": {
    "colab": {
      "provenance": [],
      "gpuType": "T4"
    },
    "kernelspec": {
      "name": "python3",
      "display_name": "Python 3"
    },
    "language_info": {
      "name": "python"
    },
    "accelerator": "GPU",
    "gpuClass": "standard"
  },
  "cells": [
    {
      "cell_type": "code",
      "execution_count": 2,
      "metadata": {
        "id": "ezzn6NX54hv7",
        "colab": {
          "base_uri": "https://localhost:8080/"
        },
        "outputId": "e503a116-7046-43cf-8a60-3a97b04e3d48"
      },
      "outputs": [
        {
          "output_type": "stream",
          "name": "stdout",
          "text": [
            "Drive already mounted at /content/drive; to attempt to forcibly remount, call drive.mount(\"/content/drive\", force_remount=True).\n"
          ]
        }
      ],
      "source": [
        "import pandas as pd\n",
        "import numpy as np \n",
        "import matplotlib.pyplot as plt\n",
        "import torch\n",
        "from google.colab import drive\n",
        "import os \n",
        "import os.path\n",
        "import cv2\n",
        "import re\n",
        "from sklearn.model_selection import train_test_split\n",
        "from torch.utils.data import DataLoader, TensorDataset\n",
        "from sklearn.model_selection import train_test_split\n",
        "import torchvision\n",
        "from torchvision import transforms\n",
        "import torch\n",
        "import torch.nn as nn\n",
        "import torch.optim as optim\n",
        "drive.mount('/content/drive')"
      ]
    },
    {
      "cell_type": "code",
      "source": [
        "PATH = \"drive/My Drive/Colab Notebooks/NN/data\"\n",
        "# PATH = \"./generated\"\n",
        "pattern = 'not'\n",
        "\n",
        "height = 64\n",
        "width = 64\n",
        "\n",
        "images = np.empty((0, height, width))\n",
        "labels = np.empty((0,))\n",
        "\n",
        "for root, dirs, files in os.walk(PATH):\n",
        "  for dir in dirs: \n",
        "      if re.search('hq_unit',dir):\n",
        "        label = 1\n",
        "      elif re.search('supply',dir):\n",
        "        label = 2\n",
        "      else:\n",
        "        label = 0\n",
        "      sub_path = os.path.join(root, dir)\n",
        "      image_urls = [os.path.join(sub_path, image_name) for image_name in os.listdir(sub_path)]\n",
        "\n",
        "\n",
        "      images_trans = np.array([cv2.resize(cv2.imread(image_url, cv2.IMREAD_GRAYSCALE), (width, height), interpolation=cv2.INTER_AREA) for image_url in image_urls])\n",
        "      labels_trans = np.repeat(a = label, repeats = images_trans.shape[0])\n",
        "\n",
        "      images = np.concatenate((images, images_trans), axis=0)\n",
        "      labels = np.concatenate((labels, labels_trans), axis=0)\n",
        "\n",
        "images = np.expand_dims(images, axis=1)\n",
        "# images = np.delete(images, 0)\n",
        "# labels = np.delete(labels, 0)"
      ],
      "metadata": {
        "id": "XmeI6b2m5gOh"
      },
      "execution_count": 3,
      "outputs": []
    },
    {
      "cell_type": "code",
      "source": [
        "plt.imshow(images[0][0], cmap='gray')\n",
        "plt.axis('off') \n",
        "plt.show()"
      ],
      "metadata": {
        "colab": {
          "base_uri": "https://localhost:8080/",
          "height": 406
        },
        "id": "vxLMBz1Iaxzb",
        "outputId": "d54b45d4-e934-4dd3-e980-6dda1aa137d4"
      },
      "execution_count": 4,
      "outputs": [
        {
          "output_type": "display_data",
          "data": {
            "text/plain": [
              "<Figure size 640x480 with 1 Axes>"
            ],
            "image/png": "[encoded data removed]"
          },
          "metadata": {}
        }
      ]
    },
    {
      "cell_type": "code",
      "source": [
        "images_tensor = torch.from_numpy(images)"
      ],
      "metadata": {
        "id": "cMa7QyfM5kdU"
      },
      "execution_count": 48,
      "outputs": []
    },
    {
      "cell_type": "code",
      "source": [
        "rotation_angles = 20\n",
        "transform = transforms.Compose([\n",
        "    transforms.ToPILImage(),\n",
        "    transforms.RandomRotation(rotation_angles),\n",
        "    transforms.ToTensor()\n",
        "])"
      ],
      "metadata": {
        "id": "tCzULwuH5LjL"
      },
      "execution_count": 49,
      "outputs": []
    },
    {
      "cell_type": "code",
      "source": [
        "images_augm = np.array([np.array(transform(image_tensor))*255 for image_tensor in images_tensor])\n",
        "labels_augm = np.repeat(labels, repeats=1)"
      ],
      "metadata": {
        "id": "ORs74XQ85PxU"
      },
      "execution_count": 50,
      "outputs": []
    },
    {
      "cell_type": "code",
      "source": [
        "images_final = np.concatenate((images, images_augm), axis=0)\n",
        "labels_final = np.concatenate((labels, labels_augm), axis=0)"
      ],
      "metadata": {
        "id": "aPTvH4m25WGQ"
      },
      "execution_count": 51,
      "outputs": []
    },
    {
      "cell_type": "code",
      "source": [
        "X_train, X_test, y_train, y_test = train_test_split(images_final, labels_final, test_size=0.2, random_state=42)\n",
        "X_train, X_val, y_train, y_val = train_test_split(X_train, y_train, test_size=0.3, random_state=42)\n",
        "\n",
        "# convert data to PyTorch tensors\n",
        "X_train = torch.tensor(X_train).float()\n",
        "y_train = torch.tensor(y_train).long()\n",
        "X_val = torch.tensor(X_val).float()\n",
        "y_val = torch.tensor(y_val).long()\n",
        "X_test = torch.tensor(X_test).float()\n",
        "y_test = torch.tensor(y_test).long()\n",
        "\n",
        "# create PyTorch datasets\n",
        "train_dataset = TensorDataset(X_train, y_train)\n",
        "val_dataset = TensorDataset(X_val, y_val)\n",
        "test_dataset = TensorDataset(X_test, y_test)\n",
        "\n",
        "# create PyTorch dataloaders\n",
        "train_loader = DataLoader(train_dataset, batch_size=10, shuffle=True)\n",
        "val_loader = DataLoader(val_dataset, batch_size=10, shuffle=False)\n",
        "test_loader = DataLoader(test_dataset, batch_size=10, shuffle=False)"
      ],
      "metadata": {
        "id": "iAQCgP0jI1Ot"
      },
      "execution_count": 52,
      "outputs": []
    },
    {
      "cell_type": "code",
      "source": [
        "class MyModel(nn.Module):\n",
        "    def __init__(self):\n",
        "        super(MyModel, self).__init__()\n",
        "        self.conv1 = nn.Conv2d(1, 50, kernel_size=2, stride=1)\n",
        "        self.bn1 = nn.BatchNorm2d(50)\n",
        "        self.relu1 = nn.ReLU()\n",
        "        self.conv2 = nn.Conv2d(50, 50, kernel_size=3, stride=2)\n",
        "        self.bn2 = nn.BatchNorm2d(50)\n",
        "        self.relu2 = nn.ReLU()\n",
        "        self.pool3 = nn.MaxPool2d(kernel_size=3, stride=2)\n",
        "        self.bn3 = nn.BatchNorm2d(50)\n",
        "        self.relu3 = nn.ReLU()\n",
        "        self.flatten = nn.Flatten()\n",
        "        self.fc1 = nn.Linear(11250, 100)\n",
        "        self.bn4 = nn.BatchNorm1d(100)\n",
        "        self.relu4 = nn.ReLU()\n",
        "        self.dropout = nn.Dropout(0.5)\n",
        "        self.fc2 = nn.Linear(100, 3)\n",
        "\n",
        "    def forward(self, x):\n",
        "        x = self.conv1(x)\n",
        "        x = self.bn1(x)\n",
        "        x = self.relu1(x)\n",
        "        x = self.conv2(x)\n",
        "        x = self.bn2(x)\n",
        "        x = self.relu2(x)\n",
        "        x = self.pool3(x)\n",
        "        x = self.bn3(x)\n",
        "        x = self.relu3(x)\n",
        "        x = self.flatten(x)\n",
        "        x = self.fc1(x)\n",
        "        x = self.bn4(x)\n",
        "        x = self.relu4(x)\n",
        "        x = self.dropout(x)\n",
        "        x = self.fc2(x)\n",
        "        return x\n"
      ],
      "metadata": {
        "id": "KgTPxj94vBIw"
      },
      "execution_count": 65,
      "outputs": []
    },
    {
      "cell_type": "code",
      "execution_count": 66,
      "metadata": {
        "id": "GRzl5tztuMAZ"
      },
      "outputs": [],
      "source": [
        "def train(model, train_loader, criterion, optimizer, device):\n",
        "    model.train()\n",
        "    running_loss = 0.0\n",
        "\n",
        "    for inputs, targets in train_loader:\n",
        "        inputs, targets = inputs.to(device), targets.to(device)  \n",
        "\n",
        "        optimizer.zero_grad() \n",
        "\n",
        "        outputs = model(inputs) \n",
        "\n",
        "        # loss = criterion(outputs, targets.unsqueeze(1))\n",
        "        loss = criterion(outputs, targets)\n",
        "\n",
        "\n",
        "        loss.backward() \n",
        "        optimizer.step() \n",
        "\n",
        "        running_loss += loss.item()  \n",
        "\n",
        "    return running_loss / len(train_loader)  "
      ]
    },
    {
      "cell_type": "code",
      "source": [
        "def validate(model, val_loader, criterion, device):\n",
        "    \"\"\"\n",
        "    Function that evaluates a model on a validation dataset using the provided DataLoader and loss function (criterion). \n",
        "    \"\"\"\n",
        "    model.eval() \n",
        "    running_loss = 0.0\n",
        "\n",
        "    with torch.no_grad(): \n",
        "        for inputs, targets in val_loader:\n",
        "            inputs, targets = inputs.to(device), targets.to(device) \n",
        "\n",
        "            outputs = model(inputs) \n",
        "            # loss = criterion(outputs, targets.unsqueeze(1)) \n",
        "            loss = criterion(outputs, targets) \n",
        "\n",
        "            running_loss += loss.item() \n",
        "\n",
        "    return running_loss / len(val_loader)"
      ],
      "metadata": {
        "id": "fjpW-axhyVjg"
      },
      "execution_count": 67,
      "outputs": []
    },
    {
      "cell_type": "code",
      "execution_count": 68,
      "metadata": {
        "id": "N1dAV0fv0Z82"
      },
      "outputs": [],
      "source": [
        "def calculate_accuracy(model, data_loader, device, calculate_predictions = False):\n",
        "    \"\"\"A function that calculate the accuracy of a model\"\"\"\n",
        "    model.eval()\n",
        "\n",
        "    correct = 0\n",
        "    total = 0\n",
        "\n",
        "    predictions = np.empty((0,))\n",
        "\n",
        "    with torch.no_grad(): \n",
        "        for images, labels in data_loader:\n",
        "            images = images.to(device)\n",
        "            labels = labels.to(device)\n",
        "\n",
        "            outputs = model(images)\n",
        "\n",
        "            # predicted = torch.round(torch.sigmoid(outputs)).squeeze()\n",
        "            predicted = torch.argmax(outputs, dim=1)\n",
        "            if calculate_predictions:\n",
        "              predictions = np.concatenate((predictions, np.array(predicted.to(\"cpu\"))), axis=0)\n",
        "\n",
        "            total += labels.size(0)\n",
        "            correct += (predicted == labels).sum().item()\n",
        "\n",
        "    accuracy = correct / total\n",
        "\n",
        "    return accuracy, predictions"
      ]
    },
    {
      "cell_type": "code",
      "source": [
        "model = MyModel()\n",
        "# criterion = nn.BCEWithLogitsLoss()\n",
        "criterion = nn.CrossEntropyLoss()\n",
        "optimizer = optim.Adam(model.parameters(), lr=0.005)\n",
        "print(model)"
      ],
      "metadata": {
        "colab": {
          "base_uri": "https://localhost:8080/"
        },
        "id": "KAOkGd582TdZ",
        "outputId": "e13bdec2-d06b-4577-edcd-ff9e10604c10"
      },
      "execution_count": 69,
      "outputs": [
        {
          "output_type": "stream",
          "name": "stdout",
          "text": [
            "MyModel(\n",
            "  (conv1): Conv2d(1, 50, kernel_size=(2, 2), stride=(1, 1))\n",
            "  (bn1): BatchNorm2d(50, eps=1e-05, momentum=0.1, affine=True, track_running_stats=True)\n",
            "  (relu1): ReLU()\n",
            "  (conv2): Conv2d(50, 50, kernel_size=(3, 3), stride=(2, 2))\n",
            "  (bn2): BatchNorm2d(50, eps=1e-05, momentum=0.1, affine=True, track_running_stats=True)\n",
            "  (relu2): ReLU()\n",
            "  (pool3): MaxPool2d(kernel_size=3, stride=2, padding=0, dilation=1, ceil_mode=False)\n",
            "  (bn3): BatchNorm2d(50, eps=1e-05, momentum=0.1, affine=True, track_running_stats=True)\n",
            "  (relu3): ReLU()\n",
            "  (flatten): Flatten(start_dim=1, end_dim=-1)\n",
            "  (fc1): Linear(in_features=11250, out_features=100, bias=True)\n",
            "  (bn4): BatchNorm1d(100, eps=1e-05, momentum=0.1, affine=True, track_running_stats=True)\n",
            "  (relu4): ReLU()\n",
            "  (dropout): Dropout(p=0.5, inplace=False)\n",
            "  (fc2): Linear(in_features=100, out_features=3, bias=True)\n",
            ")\n"
          ]
        }
      ]
    },
    {
      "cell_type": "code",
      "execution_count": 70,
      "metadata": {
        "id": "eb84yNNyjP-k",
        "colab": {
          "base_uri": "https://localhost:8080/"
        },
        "outputId": "1fae9ca2-a83b-4ea0-bec1-3b6d429471a8"
      },
      "outputs": [
        {
          "output_type": "stream",
          "name": "stdout",
          "text": [
            "Epoch 1/12\n",
            "Train Loss: 0.0986 | Validation Loss: 0.0012\n",
            "Train accuracy: 1.0000 | Validation accuracy: 1.0000\n",
            "Epoch 2/12\n",
            "Train Loss: 0.0446 | Validation Loss: 0.0008\n",
            "Train accuracy: 1.0000 | Validation accuracy: 1.0000\n",
            "Epoch 3/12\n",
            "Train Loss: 0.0284 | Validation Loss: 0.0002\n",
            "Train accuracy: 1.0000 | Validation accuracy: 1.0000\n",
            "Epoch 4/12\n",
            "Train Loss: 0.0063 | Validation Loss: 0.0001\n",
            "Train accuracy: 1.0000 | Validation accuracy: 1.0000\n",
            "Epoch 5/12\n",
            "Train Loss: 0.0253 | Validation Loss: 0.0002\n",
            "Train accuracy: 1.0000 | Validation accuracy: 1.0000\n",
            "Epoch 6/12\n",
            "Train Loss: 0.0116 | Validation Loss: 0.0003\n",
            "Train accuracy: 1.0000 | Validation accuracy: 1.0000\n",
            "Epoch 7/12\n",
            "Train Loss: 0.0103 | Validation Loss: 0.0003\n",
            "Train accuracy: 1.0000 | Validation accuracy: 1.0000\n",
            "Epoch 8/12\n",
            "Train Loss: 0.0128 | Validation Loss: 0.0003\n",
            "Train accuracy: 1.0000 | Validation accuracy: 1.0000\n",
            "Epoch 9/12\n",
            "Train Loss: 0.0067 | Validation Loss: 0.0001\n",
            "Train accuracy: 1.0000 | Validation accuracy: 1.0000\n",
            "Epoch 10/12\n",
            "Train Loss: 0.0128 | Validation Loss: 0.0002\n",
            "Train accuracy: 1.0000 | Validation accuracy: 1.0000\n",
            "Epoch 11/12\n",
            "Train Loss: 0.0140 | Validation Loss: 0.0001\n",
            "Train accuracy: 1.0000 | Validation accuracy: 1.0000\n",
            "Epoch 12/12\n",
            "Train Loss: 0.0065 | Validation Loss: 0.0000\n",
            "Train accuracy: 1.0000 | Validation accuracy: 1.0000\n"
          ]
        }
      ],
      "source": [
        "torch.manual_seed(0)\n",
        "\n",
        "# Set device to GPU if available\n",
        "device = torch.device(\"cuda\" if torch.cuda.is_available() else \"cpu\")\n",
        "\n",
        "# Move the model to the device\n",
        "model = model.to(device)\n",
        "\n",
        "# Define the number of epochs\n",
        "num_epochs = 12\n",
        "\n",
        "history = {\n",
        "    'train_loss': [],\n",
        "    'val_loss': [],\n",
        "    'train_accuracy': [],\n",
        "    'val_accuracy': []\n",
        "}\n",
        "\n",
        "# Training loop\n",
        "for epoch in range(num_epochs):\n",
        "    # Train the model\n",
        "    train_loss = train(model, train_loader, criterion, optimizer, device)\n",
        "    history['train_loss'].append(train_loss)\n",
        "    # Calculate train accuracy\n",
        "    train_accuracy, _ = calculate_accuracy(model, train_loader, device)\n",
        "    history[\"train_accuracy\"].append(train_accuracy)\n",
        "    \n",
        "    # Validate the model\n",
        "    val_loss = validate(model, val_loader, criterion, device)\n",
        "    history['val_loss'].append(val_loss)\n",
        "    # Calculate validation accuracy\n",
        "    val_accuracy, _  = calculate_accuracy(model, val_loader, device)\n",
        "    history[\"val_accuracy\"].append(val_accuracy)\n",
        "    \n",
        "    # Print the results for this epoch\n",
        "    print(f\"Epoch {epoch+1}/{num_epochs}\")\n",
        "    print(f\"Train Loss: {train_loss:.4f} | Validation Loss: {val_loss:.4f}\")\n",
        "    print(f\"Train accuracy: {train_accuracy:.4f} | Validation accuracy: {val_accuracy:.4f}\")"
      ]
    },
    {
      "cell_type": "code",
      "source": [
        "import matplotlib.pyplot as plt\n",
        "\n",
        "plt.figure(figsize=(16, 6))\n",
        "\n",
        "plt.subplot(1, 2, 1)\n",
        "plt.plot(history[\"train_loss\"])\n",
        "plt.plot(history[\"val_loss\"])\n",
        "plt.xlabel('Epoch')\n",
        "plt.ylabel('Loss')\n",
        "plt.legend(['Training', 'Validation'])\n",
        "plt.title('Loss')\n",
        "\n",
        "plt.subplot(1, 2, 2)\n",
        "plt.plot(history[\"train_accuracy\"])\n",
        "plt.plot(history[\"val_accuracy\"])\n",
        "plt.xlabel('Epoch')\n",
        "plt.ylabel('Accuracy')\n",
        "plt.legend(['Training', 'Validation'])\n",
        "plt.title('Accuracy')\n",
        "\n",
        "plt.show()"
      ],
      "metadata": {
        "id": "McAWJvqcB1JM",
        "colab": {
          "base_uri": "https://localhost:8080/",
          "height": 564
        },
        "outputId": "1a79e262-d263-4b8f-b8e4-4ede50d5ba0e"
      },
      "execution_count": 71,
      "outputs": [
        {
          "output_type": "display_data",
          "data": {
            "text/plain": [
              "<Figure size 1600x600 with 2 Axes>"
            ],
            "image/png": "[encoded data removed]"
          },
          "metadata": {}
        }
      ]
    },
    {
      "cell_type": "code",
      "source": [
        "test_accuracy, test_predictions = calculate_accuracy(model, test_loader, device)\n",
        "test_loss = validate(model, test_loader, criterion, device)\n",
        "print(\"Test set accuracy:\", test_accuracy)\n",
        "print(\"Test loss:\", test_loss)"
      ],
      "metadata": {
        "id": "faeNzRS7CJgH",
        "colab": {
          "base_uri": "https://localhost:8080/"
        },
        "outputId": "0872713a-6e29-4dcb-f28e-aa0251d76899"
      },
      "execution_count": 72,
      "outputs": [
        {
          "output_type": "stream",
          "name": "stdout",
          "text": [
            "Test set accuracy: 1.0\n",
            "Test loss: 3.3639396021794e-05\n"
          ]
        }
      ]
    },
    {
      "cell_type": "code",
      "source": [
        "scripted_model = torch.jit.script(model)\n",
        "scripted_model.save('./hq_unit_supply.pt')"
      ],
      "metadata": {
        "id": "M9jZ4w-N_9a1"
      },
      "execution_count": null,
      "outputs": []
    }
  ]
}