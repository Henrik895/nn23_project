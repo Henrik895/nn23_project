{
  "cells": [
    {
      "cell_type": "code",
      "execution_count": 1,
      "id": "c6711699",
      "metadata": {
        "id": "c6711699"
      },
      "outputs": [],
      "source": [
        "import matplotlib.pyplot as plt\n",
        "from pandas.core.common import flatten\n",
        "import numpy as np\n",
        "\n",
        "import torch\n",
        "from torch import nn\n",
        "from torch import optim\n",
        "import torch.nn.functional as F\n",
        "from torchvision import datasets, transforms, models\n",
        "from torch.utils.data import Dataset, DataLoader\n",
        "\n",
        "import albumentations as A\n",
        "from albumentations.pytorch import ToTensorV2\n",
        "import cv2\n",
        "\n",
        "import glob\n",
        "import os\n",
        "from google.colab.patches import cv2_imshow\n",
        "from tqdm import tqdm\n",
        "\n",
        "from google.colab import drive"
      ]
    },
    {
      "cell_type": "code",
      "source": [
        "drive.mount('/content/drive')"
      ],
      "metadata": {
        "colab": {
          "base_uri": "https://localhost:8080/"
        },
        "id": "3YByDLrUwgia",
        "outputId": "8df081e7-155d-464c-e9ee-7a56f36c6c81"
      },
      "id": "3YByDLrUwgia",
      "execution_count": 2,
      "outputs": [
        {
          "output_type": "stream",
          "name": "stdout",
          "text": [
            "Mounted at /content/drive\n"
          ]
        }
      ]
    },
    {
      "cell_type": "code",
      "source": [
        "!unzip -q drive/MyDrive/text_rec2.zip"
      ],
      "metadata": {
        "id": "6PcJ4f0Ex52i"
      },
      "id": "6PcJ4f0Ex52i",
      "execution_count": 3,
      "outputs": []
    },
    {
      "cell_type": "markdown",
      "id": "5d4dbf51",
      "metadata": {
        "id": "5d4dbf51"
      },
      "source": [
        "Dataloaders created with the help of: https://towardsdatascience.com/custom-dataset-in-pytorch-part-1-images-2df3152895"
      ]
    },
    {
      "cell_type": "code",
      "execution_count": 4,
      "id": "df616034",
      "metadata": {
        "id": "df616034"
      },
      "outputs": [],
      "source": [
        "transforms = A.Compose(\n",
        "    [\n",
        "        A.SmallestMaxSize(max_size=64),\n",
        "        A.RandomCrop(height=64, width=64),\n",
        "        A.Normalize(mean=(0.485, 0.456, 0.406), std=(0.229, 0.224, 0.225)),\n",
        "        ToTensorV2(),\n",
        "    ]\n",
        ")"
      ]
    },
    {
      "cell_type": "code",
      "execution_count": 5,
      "id": "7a327957",
      "metadata": {
        "colab": {
          "base_uri": "https://localhost:8080/"
        },
        "id": "7a327957",
        "outputId": "601676cd-7242-47d4-e298-8bceb653d5b2"
      },
      "outputs": [
        {
          "output_type": "stream",
          "name": "stdout",
          "text": [
            "Train size: 3699\n",
            "Valid size: 732\n",
            "Test size: 726\n"
          ]
        }
      ],
      "source": [
        "train_image_paths = list(map(lambda x: 'train/' + x, os.listdir('train')))\n",
        "valid_image_paths = list(map(lambda x: 'val/' + x, os.listdir('val')))\n",
        "test_image_paths = list(map(lambda x: 'test/' + x, os.listdir('test')))\n",
        "\n",
        "print(\"Train size: {}\\nValid size: {}\\nTest size: {}\".format(len(train_image_paths), len(valid_image_paths), len(test_image_paths)))"
      ]
    },
    {
      "cell_type": "code",
      "execution_count": 6,
      "id": "53f9fe0e",
      "metadata": {
        "id": "53f9fe0e"
      },
      "outputs": [],
      "source": [
        "labels_dict = {\"0\":0, \"A\":1, \"B\":2, \"C\":3, \"D\":4, \"1\":5, \"2\":6, \"3\":7, \"4\":8,\n",
        "          \"11\":9, \"12\":10, \"13\":11, \"14\":12,\n",
        "          \"21\":13, \"22\":14, \"23\":15, \"24\":16,\n",
        "          \"31\":17, \"32\":18, \"33\":19, \"34\":20,\n",
        "          \"41\":21, \"42\":22, \"43\":23, \"44\":24}\n",
        "class SymbolDataset(Dataset):\n",
        "    def __init__(self, image_paths, transform=False):\n",
        "        self.image_paths = image_paths\n",
        "        self.transform = transform\n",
        "        \n",
        "    def __len__(self):\n",
        "        return len(self.image_paths)\n",
        "\n",
        "    def __getitem__(self, idx):\n",
        "        image_filepath = self.image_paths[idx]\n",
        "        image = cv2.imread(image_filepath)\n",
        "        image = cv2.cvtColor(image, cv2.COLOR_BGR2RGB)\n",
        "        \n",
        "        label = labels_dict[image_filepath.split('_')[-1].split('.')[0]]\n",
        "        if self.transform is not None:\n",
        "            image = self.transform(image=image)[\"image\"]\n",
        "        \n",
        "        return image, label\n",
        "\n",
        "train_dataset = SymbolDataset(train_image_paths,transforms)\n",
        "valid_dataset = SymbolDataset(valid_image_paths,transforms)\n",
        "test_dataset = SymbolDataset(test_image_paths,transforms)"
      ]
    },
    {
      "cell_type": "code",
      "execution_count": 7,
      "id": "a1774f30",
      "metadata": {
        "id": "a1774f30"
      },
      "outputs": [],
      "source": [
        "train_loader = DataLoader(\n",
        "    train_dataset, batch_size=16, shuffle=True\n",
        ")\n",
        "\n",
        "valid_loader = DataLoader(\n",
        "    valid_dataset, batch_size=16, shuffle=True\n",
        ")\n",
        "\n",
        "\n",
        "test_loader = DataLoader(\n",
        "    test_dataset, batch_size=16, shuffle=False\n",
        ")"
      ]
    },
    {
      "cell_type": "code",
      "execution_count": 8,
      "id": "6d45a701",
      "metadata": {
        "id": "6d45a701"
      },
      "outputs": [],
      "source": [
        "import torch.nn as nn\n",
        "import torch.nn.functional as F\n",
        "\n",
        "\n",
        "class Model(nn.Module):\n",
        "    def __init__(self):\n",
        "        super().__init__()\n",
        "        self.conv1 = nn.Conv2d(3, 6, 5)\n",
        "        self.pool = nn.MaxPool2d(2, 2)\n",
        "        self.conv2 = nn.Conv2d(6, 16, 5)\n",
        "        self.fc1 = nn.Linear(2704, 120)\n",
        "        self.fc2 = nn.Linear(120, 84)\n",
        "        self.fc3 = nn.Linear(84, 25)\n",
        "\n",
        "    def forward(self, x):\n",
        "        x = self.pool(F.relu(self.conv1(x)))\n",
        "        x = self.pool(F.relu(self.conv2(x)))\n",
        "        x = torch.flatten(x, 1) # flatten all dimensions except batch\n",
        "        x = F.relu(self.fc1(x))\n",
        "        x = F.relu(self.fc2(x))\n",
        "        x = self.fc3(x)\n",
        "        return x\n",
        "\n",
        "\n",
        "model = Model()"
      ]
    },
    {
      "cell_type": "code",
      "execution_count": 9,
      "id": "6fc58dde",
      "metadata": {
        "id": "6fc58dde"
      },
      "outputs": [],
      "source": [
        "import torch.optim as optim\n",
        "\n",
        "criterion = nn.CrossEntropyLoss()\n",
        "optimizer = optim.SGD(model.parameters(), lr=0.0001, momentum=0.9)"
      ]
    },
    {
      "cell_type": "code",
      "execution_count": 10,
      "id": "e188827a",
      "metadata": {
        "id": "e188827a"
      },
      "outputs": [],
      "source": [
        "# Code for validation and testing\n",
        "def test(model, data_loader, criterion):\n",
        "    running_loss = 0.0\n",
        "    correct = 0\n",
        "    total = 0\n",
        "    \n",
        "    model.eval()\n",
        "    \n",
        "    for data in data_loader:\n",
        "        inputs, labels = data\n",
        "        \n",
        "        outputs = model(inputs)\n",
        "        \n",
        "        preds_bool = torch.argmax(outputs, dim=1).numpy() == labels.numpy()\n",
        "        correct += np.sum(preds_bool)\n",
        "        total += preds_bool.size\n",
        "\n",
        "        loss = criterion(outputs, labels)\n",
        "        running_loss += loss.item()\n",
        "        \n",
        "    test_loss = running_loss / len(data_loader)\n",
        "    test_acc = correct / total\n",
        "\n",
        "    return test_loss, test_acc"
      ]
    },
    {
      "cell_type": "code",
      "execution_count": 11,
      "id": "22941ab3",
      "metadata": {
        "colab": {
          "base_uri": "https://localhost:8080/"
        },
        "id": "22941ab3",
        "outputId": "04121aed-fe46-46e5-fb6a-7c328473ba3b"
      },
      "outputs": [
        {
          "output_type": "stream",
          "name": "stdout",
          "text": [
            "Epoch 5 train - loss: 2.6625305033963302 acc: 0.19329548526628818\n",
            "Epoch 5 val - loss: 2.6016762256622314 acc: 0.2103825136612022\n",
            "Epoch 10 train - loss: 2.235467010530932 acc: 0.2865639361989727\n",
            "Epoch 10 val - loss: 2.133864200633505 acc: 0.32786885245901637\n",
            "Epoch 15 train - loss: 1.8435371811019963 acc: 0.37307380373073806\n",
            "Epoch 15 val - loss: 1.7397268362667249 acc: 0.43169398907103823\n",
            "Epoch 20 train - loss: 1.6029179191281056 acc: 0.4487699378210327\n",
            "Epoch 20 val - loss: 1.5308881894401882 acc: 0.4849726775956284\n",
            "Epoch 25 train - loss: 1.3561008148666085 acc: 0.5396052987293863\n",
            "Epoch 25 val - loss: 1.2440610579822375 acc: 0.5887978142076503\n",
            "Epoch 30 train - loss: 1.0952591098331173 acc: 0.6307110029737767\n",
            "Epoch 30 val - loss: 1.0852257324301677 acc: 0.6243169398907104\n",
            "Epoch 35 train - loss: 0.8122153808844501 acc: 0.7391186807245201\n",
            "Epoch 35 val - loss: 0.9417238753774891 acc: 0.6775956284153005\n",
            "Epoch 40 train - loss: 0.6185549464526361 acc: 0.8115706947823736\n",
            "Epoch 40 val - loss: 0.6353593144727789 acc: 0.8114754098360656\n",
            "Epoch 45 train - loss: 0.45505034653791065 acc: 0.8688834820221681\n",
            "Epoch 45 val - loss: 0.5187410362388777 acc: 0.8510928961748634\n",
            "Epoch 50 train - loss: 0.339295896605171 acc: 0.8997026223303596\n",
            "Epoch 50 val - loss: 0.43000803823056427 acc: 0.8743169398907104\n",
            "Epoch 55 train - loss: 0.2699508346769766 acc: 0.9218707758853745\n",
            "Epoch 55 val - loss: 0.41411846082495607 acc: 0.8797814207650273\n",
            "Epoch 60 train - loss: 0.23146388578581914 acc: 0.9318734793187348\n",
            "Epoch 60 val - loss: 0.33750342435972847 acc: 0.894808743169399\n",
            "Epoch 65 train - loss: 0.18848765257681752 acc: 0.9424168694241687\n",
            "Epoch 65 val - loss: 0.2785633525446705 acc: 0.9180327868852459\n",
            "Epoch 70 train - loss: 0.14490631213893407 acc: 0.9578264395782644\n",
            "Epoch 70 val - loss: 0.2857255785847488 acc: 0.9139344262295082\n",
            "Epoch 75 train - loss: 0.12317237079721587 acc: 0.9653960529872939\n",
            "Epoch 75 val - loss: 0.2703394764305457 acc: 0.9207650273224044\n",
            "Finished Training\n"
          ]
        }
      ],
      "source": [
        "# Code for training the model\n",
        "train_losses = []\n",
        "train_accs = []\n",
        "\n",
        "val_losses = []\n",
        "val_accs = []\n",
        "\n",
        "for epoch in range(1, 76):\n",
        "    running_loss = 0.0\n",
        "    correct = 0\n",
        "    total = 0\n",
        "    for data in train_loader:\n",
        "      inputs, labels = data\n",
        "      \n",
        "      optimizer.zero_grad()\n",
        "\n",
        "      outputs = model(inputs)\n",
        "      \n",
        "      preds_bool = torch.argmax(outputs, dim=1).numpy() == labels.numpy()\n",
        "      correct += np.sum(preds_bool)\n",
        "      total += preds_bool.size\n",
        "\n",
        "      loss = criterion(outputs, labels)\n",
        "      loss.backward()\n",
        "      \n",
        "      optimizer.step()\n",
        "\n",
        "      running_loss += loss.item()\n",
        "    \n",
        "    train_acc = correct / total\n",
        "    train_accs.append(train_acc)\n",
        "    \n",
        "    train_loss = running_loss / len(train_loader)\n",
        "    train_losses.append(train_loss)\n",
        "    \n",
        "    val_loss, val_acc = test(model, valid_loader, criterion)\n",
        "    val_losses.append(val_loss)\n",
        "    val_accs.append(val_acc)\n",
        "    \n",
        "    if epoch % 5 == 0:\n",
        "        print(f'Epoch {epoch} train - loss:', train_loss, 'acc:', train_acc)\n",
        "        print(f'Epoch {epoch} val - loss:', val_loss, 'acc:', val_acc)\n",
        "        \n",
        "        \n",
        "print('Finished Training')"
      ]
    },
    {
      "cell_type": "code",
      "execution_count": 12,
      "id": "8e5fecff",
      "metadata": {
        "colab": {
          "base_uri": "https://localhost:8080/",
          "height": 472
        },
        "id": "8e5fecff",
        "outputId": "a785b32b-ab0d-4595-c50f-87fca93b35d4"
      },
      "outputs": [
        {
          "output_type": "display_data",
          "data": {
            "text/plain": [
              "<Figure size 640x480 with 1 Axes>"
            ],
            "image/png": "[encoded data removed]"
          },
          "metadata": {}
        }
      ],
      "source": [
        "# Model train/val losses\n",
        "plt.title('Model losses')\n",
        "\n",
        "plt.plot(train_losses)\n",
        "plt.plot(val_losses)\n",
        "\n",
        "plt.ylabel('Loss')\n",
        "plt.xlabel('Epoch')\n",
        "\n",
        "plt.legend(['Train', 'Validation'], loc='upper right')\n",
        "\n",
        "plt.show()"
      ]
    },
    {
      "cell_type": "code",
      "execution_count": 13,
      "id": "92e38603",
      "metadata": {
        "colab": {
          "base_uri": "https://localhost:8080/",
          "height": 472
        },
        "id": "92e38603",
        "outputId": "26bf5b46-675d-4e24-d681-1cb585d7c19d"
      },
      "outputs": [
        {
          "output_type": "display_data",
          "data": {
            "text/plain": [
              "<Figure size 640x480 with 1 Axes>"
            ],
            "image/png": "[encoded data removed]"
          },
          "metadata": {}
        }
      ],
      "source": [
        "# Model train/val accuracy\n",
        "plt.title('Model accuracy')\n",
        "\n",
        "plt.plot(train_accs)\n",
        "plt.plot(val_accs)\n",
        "\n",
        "plt.ylabel('Accuracy')\n",
        "plt.xlabel('Epoch')\n",
        "\n",
        "plt.legend(['Train', 'Validation'], loc='upper left')\n",
        "\n",
        "plt.show()"
      ]
    },
    {
      "cell_type": "code",
      "execution_count": 14,
      "id": "86b1306e",
      "metadata": {
        "id": "86b1306e"
      },
      "outputs": [],
      "source": [
        "test_loss, test_acc = test(model, test_loader, criterion)"
      ]
    },
    {
      "cell_type": "code",
      "execution_count": 15,
      "id": "63f15d11",
      "metadata": {
        "colab": {
          "base_uri": "https://localhost:8080/"
        },
        "id": "63f15d11",
        "outputId": "bf69f613-41d1-4436-da84-a63b41dc1fa0"
      },
      "outputs": [
        {
          "output_type": "stream",
          "name": "stdout",
          "text": [
            "Test loss: 0.4006607308173957\n",
            "Test acc: 0.9035812672176309\n"
          ]
        }
      ],
      "source": [
        "print('Test loss:', test_loss)\n",
        "print('Test acc:', test_acc)"
      ]
    },
    {
      "cell_type": "code",
      "execution_count": 17,
      "id": "96c7f730",
      "metadata": {
        "id": "96c7f730"
      },
      "outputs": [],
      "source": [
        "scripted_model = torch.jit.script(model)\n",
        "scripted_model.save('model_T_M.pt')"
      ]
    }
  ],
  "metadata": {
    "kernelspec": {
      "display_name": "Python 3",
      "name": "python3"
    },
    "language_info": {
      "codemirror_mode": {
        "name": "ipython",
        "version": 3
      },
      "file_extension": ".py",
      "mimetype": "text/x-python",
      "name": "python",
      "nbconvert_exporter": "python",
      "pygments_lexer": "ipython3",
      "version": "3.9.16"
    },
    "colab": {
      "provenance": [],
      "gpuType": "T4"
    },
    "accelerator": "GPU"
  },
  "nbformat": 4,
  "nbformat_minor": 5
}