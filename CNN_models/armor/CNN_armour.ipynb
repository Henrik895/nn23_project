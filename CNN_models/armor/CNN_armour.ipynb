{
  "nbformat": 4,
  "nbformat_minor": 0,
  "metadata": {
    "colab": {
      "provenance": [],
      "gpuType": "T4"
    },
    "kernelspec": {
      "name": "python3",
      "display_name": "Python 3"
    },
    "language_info": {
      "name": "python"
    },
    "accelerator": "GPU",
    "gpuClass": "standard"
  },
  "cells": [
    {
      "cell_type": "code",
      "execution_count": null,
      "metadata": {
        "colab": {
          "base_uri": "https://localhost:8080/"
        },
        "id": "ezzn6NX54hv7",
        "outputId": "a8959085-2084-4620-ac24-2beabd04254f"
      },
      "outputs": [
        {
          "output_type": "stream",
          "name": "stdout",
          "text": [
            "Mounted at /content/drive\n"
          ]
        }
      ],
      "source": [
        "import pandas as pd\n",
        "import numpy as np \n",
        "import matplotlib.pyplot as plt\n",
        "import torch\n",
        "from google.colab import drive\n",
        "import os \n",
        "import os.path\n",
        "import cv2\n",
        "import re\n",
        "from sklearn.model_selection import train_test_split\n",
        "from torch.utils.data import DataLoader, TensorDataset\n",
        "from sklearn.model_selection import train_test_split\n",
        "import torchvision\n",
        "from torchvision import transforms\n",
        "import torch\n",
        "import torch.nn as nn\n",
        "import torch.optim as optim\n",
        "drive.mount('/content/drive')"
      ]
    },
    {
      "cell_type": "code",
      "source": [
        "PATH = \"drive/My Drive/nn_project\"\n",
        "pattern = 'not'\n",
        "\n",
        "height = 64\n",
        "width = 64\n",
        "\n",
        "images = np.empty((0, height, width))\n",
        "labels = np.empty((0,))\n",
        "\n",
        "for root, dirs, files in os.walk(PATH): \n",
        "  for dir in dirs: \n",
        "      if re.search('armour',dir):\n",
        "        print(dir)\n",
        "\n",
        "        if re.search(pattern,dir)!=None: \n",
        "          label = 0\n",
        "        else: \n",
        "          label =1\n",
        "\n",
        "        sub_path = os.path.join(root, dir)\n",
        "        image_urls = [os.path.join(sub_path, image_name) for image_name in os.listdir(sub_path)]\n",
        "\n",
        "\n",
        "        images_trans = np.array([cv2.resize(cv2.imread(image_url, cv2.IMREAD_GRAYSCALE), (width, height), interpolation=cv2.INTER_AREA) for image_url in image_urls])\n",
        "        labels_trans = np.repeat(a = label, repeats = images_trans.shape[0])\n",
        "\n",
        "        images = np.concatenate((images, images_trans), axis=0)\n",
        "        labels = np.concatenate((labels, labels_trans), axis=0)\n",
        "\n",
        "images = np.expand_dims(images, axis=1)\n",
        "# images = np.delete(images, 0)\n",
        "# labels = np.delete(labels, 0)"
      ],
      "metadata": {
        "id": "XmeI6b2m5gOh",
        "colab": {
          "base_uri": "https://localhost:8080/"
        },
        "outputId": "af6cc8e1-e22f-4aaf-b2cc-9abd4f9a82cf"
      },
      "execution_count": null,
      "outputs": [
        {
          "output_type": "stream",
          "name": "stdout",
          "text": [
            "not_armour\n",
            "armour\n"
          ]
        }
      ]
    },
    {
      "cell_type": "code",
      "source": [
        "plt.imshow(images[0][0], cmap='gray')\n",
        "plt.axis('off') \n",
        "plt.show()"
      ],
      "metadata": {
        "colab": {
          "base_uri": "https://localhost:8080/",
          "height": 406
        },
        "id": "vxLMBz1Iaxzb",
        "outputId": "e6b44c2b-6497-43d2-953d-b4eaf24ea601"
      },
      "execution_count": null,
      "outputs": [
        {
          "output_type": "display_data",
          "data": {
            "text/plain": [
              "<Figure size 640x480 with 1 Axes>"
            ],
            "image/png": "[encoded data removed]"
          },
          "metadata": {}
        }
      ]
    },
    {
      "cell_type": "code",
      "source": [
        "images_tensor = torch.from_numpy(images)"
      ],
      "metadata": {
        "id": "cMa7QyfM5kdU"
      },
      "execution_count": null,
      "outputs": []
    },
    {
      "cell_type": "code",
      "source": [
        "rotation_angles = 20\n",
        "transform = transforms.Compose([\n",
        "    transforms.ToPILImage(),\n",
        "    transforms.RandomRotation(rotation_angles),\n",
        "    transforms.ToTensor()\n",
        "])"
      ],
      "metadata": {
        "id": "tCzULwuH5LjL"
      },
      "execution_count": null,
      "outputs": []
    },
    {
      "cell_type": "code",
      "source": [
        "images_augm = np.array([np.array(transform(image_tensor))*255 for image_tensor in images_tensor])\n",
        "labels_augm = np.repeat(labels, repeats=1)"
      ],
      "metadata": {
        "id": "ORs74XQ85PxU"
      },
      "execution_count": null,
      "outputs": []
    },
    {
      "cell_type": "code",
      "source": [
        "images_final = np.concatenate((images, images_augm), axis=0)\n",
        "labels_final = np.concatenate((labels, labels_augm), axis=0)"
      ],
      "metadata": {
        "id": "aPTvH4m25WGQ"
      },
      "execution_count": null,
      "outputs": []
    },
    {
      "cell_type": "code",
      "source": [
        "X_train, X_test, y_train, y_test = train_test_split(images_final, labels_final, test_size=0.2, random_state=42)\n",
        "X_train, X_val, y_train, y_val = train_test_split(X_train, y_train, test_size=0.3, random_state=42)\n",
        "\n",
        "# convert data to PyTorch tensors\n",
        "X_train = torch.tensor(X_train).float()\n",
        "y_train = torch.tensor(y_train).float()\n",
        "X_val = torch.tensor(X_val).float()\n",
        "y_val = torch.tensor(y_val).float()\n",
        "X_test = torch.tensor(X_test).float()\n",
        "y_test = torch.tensor(y_test).float()\n",
        "\n",
        "# create PyTorch datasets\n",
        "train_dataset = TensorDataset(X_train, y_train)\n",
        "val_dataset = TensorDataset(X_val, y_val)\n",
        "test_dataset = TensorDataset(X_test, y_test)\n",
        "\n",
        "# create PyTorch dataloaders\n",
        "train_loader = DataLoader(train_dataset, batch_size=10, shuffle=True)\n",
        "val_loader = DataLoader(val_dataset, batch_size=10, shuffle=False)\n",
        "test_loader = DataLoader(test_dataset, batch_size=10, shuffle=False)"
      ],
      "metadata": {
        "id": "iAQCgP0jI1Ot"
      },
      "execution_count": null,
      "outputs": []
    },
    {
      "cell_type": "code",
      "source": [
        "class MyModel(nn.Module):\n",
        "    def __init__(self):\n",
        "        super(MyModel, self).__init__()\n",
        "        self.conv1 = nn.Conv2d(1, 50, kernel_size=2, stride=1)\n",
        "        self.bn1 = nn.BatchNorm2d(50)\n",
        "        self.relu1 = nn.ReLU()\n",
        "        self.conv2 = nn.Conv2d(50, 50, kernel_size=3, stride=2)\n",
        "        self.bn2 = nn.BatchNorm2d(50)\n",
        "        self.relu2 = nn.ReLU()\n",
        "        self.pool3 = nn.MaxPool2d(kernel_size=3, stride=2)\n",
        "        self.bn3 = nn.BatchNorm2d(50)\n",
        "        self.relu3 = nn.ReLU()\n",
        "        self.flatten = nn.Flatten()\n",
        "        self.fc1 = nn.Linear(11250, 100)\n",
        "        self.bn4 = nn.BatchNorm1d(100)\n",
        "        self.relu4 = nn.ReLU()\n",
        "        self.dropout = nn.Dropout(0.5)\n",
        "        self.fc2 = nn.Linear(100, 1)\n",
        "\n",
        "    def forward(self, x):\n",
        "        x = self.conv1(x)\n",
        "        x = self.bn1(x)\n",
        "        x = self.relu1(x)\n",
        "        x = self.conv2(x)\n",
        "        x = self.bn2(x)\n",
        "        x = self.relu2(x)\n",
        "        x = self.pool3(x)\n",
        "        x = self.bn3(x)\n",
        "        x = self.relu3(x)\n",
        "        x = self.flatten(x)\n",
        "        x = self.fc1(x)\n",
        "        x = self.bn4(x)\n",
        "        self.conv1 = nn.Conv2d(1, 50, kernel_size=2, stride=1)\n",
        "        self.bn1 = nn.BatchNorm2d(50)\n",
        "        self.relu1 = nn.ReLU()\n",
        "        self.conv2 = nn.Conv2d(50, 50, kernel_size=3, stride=2)\n",
        "        self.bn2 = nn.BatchNorm2d(50)\n",
        "        self.relu2 = nn.ReLU()\n",
        "        self.pool3 = nn.MaxPool2d(kernel_size=3, stride=2)\n",
        "        self.bn3 = nn.BatchNorm2d(50)\n",
        "        self.relu3 = nn.ReLU()\n",
        "        self.flatten = nn.Flatten()\n",
        "        self.fc1 = nn.Linear(11250, 100)\n",
        "        self.bn4 = nn.BatchNorm1d(100)\n",
        "        self.relu4 = nn.ReLU()\n",
        "        self.dropout = nn.Dropout(0.5)\n",
        "        self.fc2 = nn.Linear(100, 1)\n",
        "\n",
        "    def forward(self, x):\n",
        "        x = self.conv1(x)\n",
        "        x = self.bn1(x)\n",
        "        x = self.relu1(x)\n",
        "        x = self.conv2(x)\n",
        "        x = self.bn2(x)\n",
        "        x = self.relu2(x)\n",
        "        x = self.pool3(x)\n",
        "        x = self.bn3(x)\n",
        "        x = self.relu3(x)\n",
        "        x = self.flatten(x)\n",
        "        x = self.fc1(x)\n",
        "        x = self.bn4(x)\n",
        "        x = self.relu4(x)\n",
        "        x = self.dropout(x)\n",
        "        x = self.fc2(x)\n",
        "        return x\n"
      ],
      "metadata": {
        "id": "KgTPxj94vBIw"
      },
      "execution_count": null,
      "outputs": []
    },
    {
      "cell_type": "code",
      "execution_count": null,
      "metadata": {
        "id": "GRzl5tztuMAZ"
      },
      "outputs": [],
      "source": [
        "def train(model, train_loader, criterion, optimizer, device):\n",
        "    model.train()\n",
        "    running_loss = 0.0\n",
        "\n",
        "    for inputs, targets in train_loader:\n",
        "        inputs, targets = inputs.to(device), targets.to(device)  \n",
        "\n",
        "        optimizer.zero_grad() \n",
        "\n",
        "        outputs = model(inputs) \n",
        "\n",
        "        loss = criterion(outputs, targets.unsqueeze(1))\n",
        "\n",
        "\n",
        "        loss.backward() \n",
        "        optimizer.step() \n",
        "\n",
        "        running_loss += loss.item()  \n",
        "\n",
        "    return running_loss / len(train_loader)  "
      ]
    },
    {
      "cell_type": "code",
      "source": [
        "def validate(model, val_loader, criterion, device):\n",
        "    \"\"\"\n",
        "    Function that evaluates a model on a validation dataset using the provided DataLoader and loss function (criterion). \n",
        "    \"\"\"\n",
        "    model.eval() \n",
        "    running_loss = 0.0\n",
        "\n",
        "    with torch.no_grad(): \n",
        "        for inputs, targets in val_loader:\n",
        "            inputs, targets = inputs.to(device), targets.to(device) \n",
        "\n",
        "            outputs = model(inputs) \n",
        "            loss = criterion(outputs, targets.unsqueeze(1)) \n",
        "\n",
        "            running_loss += loss.item() \n",
        "\n",
        "    return running_loss / len(val_loader)"
      ],
      "metadata": {
        "id": "fjpW-axhyVjg"
      },
      "execution_count": null,
      "outputs": []
    },
    {
      "cell_type": "code",
      "execution_count": null,
      "metadata": {
        "id": "N1dAV0fv0Z82"
      },
      "outputs": [],
      "source": [
        "def calculate_accuracy(model, data_loader, device, calculate_predictions = False):\n",
        "    \"\"\"A function that calculate the accuracy of a model\"\"\"\n",
        "    model.eval()\n",
        "\n",
        "    correct = 0\n",
        "    total = 0\n",
        "\n",
        "    predictions = np.empty((0,))\n",
        "\n",
        "    with torch.no_grad(): \n",
        "        for images, labels in data_loader:\n",
        "            images = images.to(device)\n",
        "            labels = labels.to(device)\n",
        "\n",
        "            outputs = model(images)\n",
        "\n",
        "            predicted = torch.round(torch.sigmoid(outputs)).squeeze()\n",
        "            if calculate_predictions:\n",
        "              predictions = np.concatenate((predictions, np.array(predicted.to(\"cpu\"))), axis=0)\n",
        "\n",
        "            total += labels.size(0)\n",
        "            correct += (predicted == labels).sum().item()\n",
        "\n",
        "    accuracy = correct / total\n",
        "\n",
        "    return accuracy, predictions"
      ]
    },
    {
      "cell_type": "code",
      "source": [
        "model = MyModel()\n",
        "criterion = nn.BCEWithLogitsLoss()\n",
        "optimizer = optim.Adam(model.parameters(), lr=0.003)\n",
        "print(model)"
      ],
      "metadata": {
        "colab": {
          "base_uri": "https://localhost:8080/"
        },
        "id": "KAOkGd582TdZ",
        "outputId": "17db7f17-3dce-4bfd-ffef-d1b974f60f6d"
      },
      "execution_count": null,
      "outputs": [
        {
          "output_type": "stream",
          "name": "stdout",
          "text": [
            "MyModel(\n",
            "  (conv1): Conv2d(1, 50, kernel_size=(2, 2), stride=(1, 1))\n",
            "  (bn1): BatchNorm2d(50, eps=1e-05, momentum=0.1, affine=True, track_running_stats=True)\n",
            "  (relu1): ReLU()\n",
            "  (conv2): Conv2d(50, 50, kernel_size=(3, 3), stride=(2, 2))\n",
            "  (bn2): BatchNorm2d(50, eps=1e-05, momentum=0.1, affine=True, track_running_stats=True)\n",
            "  (relu2): ReLU()\n",
            "  (pool3): MaxPool2d(kernel_size=3, stride=2, padding=0, dilation=1, ceil_mode=False)\n",
            "  (bn3): BatchNorm2d(50, eps=1e-05, momentum=0.1, affine=True, track_running_stats=True)\n",
            "  (relu3): ReLU()\n",
            "  (flatten): Flatten(start_dim=1, end_dim=-1)\n",
            "  (fc1): Linear(in_features=11250, out_features=100, bias=True)\n",
            "  (bn4): BatchNorm1d(100, eps=1e-05, momentum=0.1, affine=True, track_running_stats=True)\n",
            "  (relu4): ReLU()\n",
            "  (dropout): Dropout(p=0.5, inplace=False)\n",
            "  (fc2): Linear(in_features=100, out_features=1, bias=True)\n",
            ")\n"
          ]
        }
      ]
    },
    {
      "cell_type": "code",
      "execution_count": null,
      "metadata": {
        "id": "eb84yNNyjP-k",
        "colab": {
          "base_uri": "https://localhost:8080/"
        },
        "outputId": "8ff77b0f-1bf1-4294-b11d-167bd6090626"
      },
      "outputs": [
        {
          "output_type": "stream",
          "name": "stdout",
          "text": [
            "Epoch 1/50\n",
            "Train Loss: 0.1316 | Validation Loss: 0.0086\n",
            "Train accuracy: 1.0000 | Validation accuracy: 1.0000\n",
            "Epoch 2/50\n",
            "Train Loss: 0.0801 | Validation Loss: 0.0049\n",
            "Train accuracy: 1.0000 | Validation accuracy: 1.0000\n",
            "Epoch 3/50\n",
            "Train Loss: 0.0363 | Validation Loss: 0.0021\n",
            "Train accuracy: 1.0000 | Validation accuracy: 1.0000\n",
            "Epoch 4/50\n",
            "Train Loss: 0.0208 | Validation Loss: 0.0031\n",
            "Train accuracy: 1.0000 | Validation accuracy: 1.0000\n",
            "Epoch 5/50\n",
            "Train Loss: 0.0593 | Validation Loss: 0.0015\n",
            "Train accuracy: 1.0000 | Validation accuracy: 1.0000\n",
            "Epoch 6/50\n",
            "Train Loss: 0.0144 | Validation Loss: 0.0024\n",
            "Train accuracy: 1.0000 | Validation accuracy: 1.0000\n",
            "Epoch 7/50\n",
            "Train Loss: 0.0240 | Validation Loss: 0.0007\n",
            "Train accuracy: 1.0000 | Validation accuracy: 1.0000\n",
            "Epoch 8/50\n",
            "Train Loss: 0.0107 | Validation Loss: 0.0011\n",
            "Train accuracy: 1.0000 | Validation accuracy: 1.0000\n",
            "Epoch 9/50\n",
            "Train Loss: 0.0185 | Validation Loss: 0.0015\n",
            "Train accuracy: 1.0000 | Validation accuracy: 1.0000\n",
            "Epoch 10/50\n",
            "Train Loss: 0.0362 | Validation Loss: 0.0034\n",
            "Train accuracy: 1.0000 | Validation accuracy: 1.0000\n",
            "Epoch 11/50\n",
            "Train Loss: 0.0121 | Validation Loss: 0.0008\n",
            "Train accuracy: 1.0000 | Validation accuracy: 1.0000\n",
            "Epoch 12/50\n",
            "Train Loss: 0.0044 | Validation Loss: 0.0006\n",
            "Train accuracy: 1.0000 | Validation accuracy: 1.0000\n",
            "Epoch 13/50\n",
            "Train Loss: 0.0041 | Validation Loss: 0.0003\n",
            "Train accuracy: 1.0000 | Validation accuracy: 1.0000\n",
            "Epoch 14/50\n",
            "Train Loss: 0.0626 | Validation Loss: 0.0005\n",
            "Train accuracy: 1.0000 | Validation accuracy: 1.0000\n",
            "Epoch 15/50\n",
            "Train Loss: 0.0026 | Validation Loss: 0.0003\n",
            "Train accuracy: 1.0000 | Validation accuracy: 1.0000\n",
            "Epoch 16/50\n",
            "Train Loss: 0.0055 | Validation Loss: 0.0001\n",
            "Train accuracy: 1.0000 | Validation accuracy: 1.0000\n",
            "Epoch 17/50\n",
            "Train Loss: 0.0317 | Validation Loss: 0.0001\n",
            "Train accuracy: 1.0000 | Validation accuracy: 1.0000\n",
            "Epoch 18/50\n",
            "Train Loss: 0.0028 | Validation Loss: 0.0002\n",
            "Train accuracy: 1.0000 | Validation accuracy: 1.0000\n",
            "Epoch 19/50\n",
            "Train Loss: 0.0561 | Validation Loss: 0.0002\n",
            "Train accuracy: 1.0000 | Validation accuracy: 1.0000\n",
            "Epoch 20/50\n",
            "Train Loss: 0.0508 | Validation Loss: 0.0001\n",
            "Train accuracy: 1.0000 | Validation accuracy: 1.0000\n",
            "Epoch 21/50\n",
            "Train Loss: 0.0061 | Validation Loss: 0.0001\n",
            "Train accuracy: 1.0000 | Validation accuracy: 1.0000\n",
            "Epoch 22/50\n",
            "Train Loss: 0.0229 | Validation Loss: 0.0001\n",
            "Train accuracy: 1.0000 | Validation accuracy: 1.0000\n",
            "Epoch 23/50\n",
            "Train Loss: 0.0572 | Validation Loss: 0.0002\n",
            "Train accuracy: 1.0000 | Validation accuracy: 1.0000\n",
            "Epoch 24/50\n",
            "Train Loss: 0.0356 | Validation Loss: 0.0001\n",
            "Train accuracy: 1.0000 | Validation accuracy: 1.0000\n",
            "Epoch 25/50\n",
            "Train Loss: 0.0578 | Validation Loss: 0.0020\n",
            "Train accuracy: 1.0000 | Validation accuracy: 1.0000\n",
            "Epoch 26/50\n",
            "Train Loss: 0.0474 | Validation Loss: 0.0008\n",
            "Train accuracy: 1.0000 | Validation accuracy: 1.0000\n",
            "Epoch 27/50\n",
            "Train Loss: 0.0064 | Validation Loss: 0.0006\n",
            "Train accuracy: 1.0000 | Validation accuracy: 1.0000\n",
            "Epoch 28/50\n",
            "Train Loss: 0.0405 | Validation Loss: 0.0003\n",
            "Train accuracy: 1.0000 | Validation accuracy: 1.0000\n",
            "Epoch 29/50\n",
            "Train Loss: 0.0116 | Validation Loss: 0.0002\n",
            "Train accuracy: 1.0000 | Validation accuracy: 1.0000\n",
            "Epoch 30/50\n",
            "Train Loss: 0.0817 | Validation Loss: 0.0005\n",
            "Train accuracy: 1.0000 | Validation accuracy: 1.0000\n",
            "Epoch 31/50\n",
            "Train Loss: 0.0149 | Validation Loss: 0.0003\n",
            "Train accuracy: 1.0000 | Validation accuracy: 1.0000\n",
            "Epoch 32/50\n",
            "Train Loss: 0.0116 | Validation Loss: 0.0002\n",
            "Train accuracy: 1.0000 | Validation accuracy: 1.0000\n",
            "Epoch 33/50\n",
            "Train Loss: 0.0449 | Validation Loss: 0.0001\n",
            "Train accuracy: 1.0000 | Validation accuracy: 1.0000\n",
            "Epoch 34/50\n",
            "Train Loss: 0.0905 | Validation Loss: 0.0018\n",
            "Train accuracy: 1.0000 | Validation accuracy: 1.0000\n",
            "Epoch 35/50\n",
            "Train Loss: 0.0081 | Validation Loss: 0.0002\n",
            "Train accuracy: 1.0000 | Validation accuracy: 1.0000\n",
            "Epoch 36/50\n",
            "Train Loss: 0.0189 | Validation Loss: 0.0003\n",
            "Train accuracy: 1.0000 | Validation accuracy: 1.0000\n",
            "Epoch 37/50\n",
            "Train Loss: 0.0029 | Validation Loss: 0.0001\n",
            "Train accuracy: 1.0000 | Validation accuracy: 1.0000\n",
            "Epoch 38/50\n",
            "Train Loss: 0.0902 | Validation Loss: 0.0001\n",
            "Train accuracy: 1.0000 | Validation accuracy: 1.0000\n",
            "Epoch 39/50\n",
            "Train Loss: 0.0199 | Validation Loss: 0.0002\n",
            "Train accuracy: 1.0000 | Validation accuracy: 1.0000\n",
            "Epoch 40/50\n",
            "Train Loss: 0.0131 | Validation Loss: 0.0002\n",
            "Train accuracy: 1.0000 | Validation accuracy: 1.0000\n",
            "Epoch 41/50\n",
            "Train Loss: 0.0083 | Validation Loss: 0.0001\n",
            "Train accuracy: 1.0000 | Validation accuracy: 1.0000\n",
            "Epoch 42/50\n",
            "Train Loss: 0.0022 | Validation Loss: 0.0001\n",
            "Train accuracy: 1.0000 | Validation accuracy: 1.0000\n",
            "Epoch 43/50\n",
            "Train Loss: 0.0040 | Validation Loss: 0.0001\n",
            "Train accuracy: 1.0000 | Validation accuracy: 1.0000\n",
            "Epoch 44/50\n",
            "Train Loss: 0.0055 | Validation Loss: 0.0001\n",
            "Train accuracy: 1.0000 | Validation accuracy: 1.0000\n",
            "Epoch 45/50\n",
            "Train Loss: 0.0019 | Validation Loss: 0.0001\n",
            "Train accuracy: 1.0000 | Validation accuracy: 1.0000\n",
            "Epoch 46/50\n",
            "Train Loss: 0.0070 | Validation Loss: 0.0001\n",
            "Train accuracy: 1.0000 | Validation accuracy: 1.0000\n",
            "Epoch 47/50\n",
            "Train Loss: 0.0069 | Validation Loss: 0.0000\n",
            "Train accuracy: 1.0000 | Validation accuracy: 1.0000\n",
            "Epoch 48/50\n",
            "Train Loss: 0.0263 | Validation Loss: 0.0001\n",
            "Train accuracy: 1.0000 | Validation accuracy: 1.0000\n",
            "Epoch 49/50\n",
            "Train Loss: 0.0011 | Validation Loss: 0.0000\n",
            "Train accuracy: 1.0000 | Validation accuracy: 1.0000\n",
            "Epoch 50/50\n",
            "Train Loss: 0.0035 | Validation Loss: 0.0001\n",
            "Train accuracy: 1.0000 | Validation accuracy: 1.0000\n"
          ]
        }
      ],
      "source": [
        "torch.manual_seed(0)\n",
        "\n",
        "device = torch.device(\"cuda\" if torch.cuda.is_available() else \"cpu\")\n",
        "\n",
        "model = model.to(device)\n",
        "\n",
        "num_epochs = 50\n",
        "\n",
        "history = {\n",
        "    'train_loss': [],\n",
        "    'val_loss': [],\n",
        "    'train_accuracy': [],\n",
        "    'val_accuracy': []\n",
        "}\n",
        "\n",
        "for epoch in range(num_epochs):\n",
        "\n",
        "    train_loss = train(model, train_loader, criterion, optimizer, device)\n",
        "    history['train_loss'].append(train_loss)\n",
        "    train_accuracy, _ = calculate_accuracy(model, train_loader, device)\n",
        "    history[\"train_accuracy\"].append(train_accuracy)\n",
        "\n",
        "    val_loss = validate(model, val_loader, criterion, device)\n",
        "    history['val_loss'].append(val_loss)\n",
        "    val_accuracy, _  = calculate_accuracy(model, val_loader, device)\n",
        "    history[\"val_accuracy\"].append(val_accuracy)\n",
        "    \n",
        "    print(f\"Epoch {epoch+1}/{num_epochs}\")\n",
        "    print(f\"Train Loss: {train_loss:.4f} | Validation Loss: {val_loss:.4f}\")\n",
        "    print(f\"Train accuracy: {train_accuracy:.4f} | Validation accuracy: {val_accuracy:.4f}\")"
      ]
    },
    {
      "cell_type": "code",
      "source": [
        "import matplotlib.pyplot as plt\n",
        "\n",
        "plt.figure(figsize=(16, 6))\n",
        "\n",
        "plt.subplot(1, 2, 1)\n",
        "plt.plot(history[\"train_loss\"])\n",
        "plt.plot(history[\"val_loss\"])\n",
        "plt.xlabel('Epoch')\n",
        "plt.ylabel('Loss')\n",
        "plt.legend(['Training', 'Validation'])\n",
        "plt.title('Loss')\n",
        "\n",
        "plt.subplot(1, 2, 2)\n",
        "plt.plot(history[\"train_accuracy\"])\n",
        "plt.plot(history[\"val_accuracy\"])\n",
        "plt.xlabel('Epoch')\n",
        "plt.ylabel('Accuracy')\n",
        "plt.legend(['Training', 'Validation'])\n",
        "plt.title('Accuracy')\n",
        "\n",
        "plt.show()"
      ],
      "metadata": {
        "colab": {
          "base_uri": "https://localhost:8080/",
          "height": 563
        },
        "id": "McAWJvqcB1JM",
        "outputId": "6300e74b-b590-4a9b-f3d1-352492b4e084"
      },
      "execution_count": null,
      "outputs": [
        {
          "output_type": "display_data",
          "data": {
            "text/plain": [
              "<Figure size 1600x600 with 2 Axes>"
            ],
            "image/png": "[encoded data removed]"
          },
          "metadata": {}
        }
      ]
    },
    {
      "cell_type": "code",
      "source": [
        "test_accuracy, test_predictions = calculate_accuracy(model, test_loader, device)\n",
        "test_loss = validate(model, test_loader, criterion, device)\n",
        "print(\"Test set accuracy:\", test_accuracy)\n",
        "print(\"Test loss:\", test_loss)"
      ],
      "metadata": {
        "colab": {
          "base_uri": "https://localhost:8080/"
        },
        "id": "faeNzRS7CJgH",
        "outputId": "cdc04225-a5e7-40a5-a740-c697af54b22b"
      },
      "execution_count": null,
      "outputs": [
        {
          "output_type": "stream",
          "name": "stdout",
          "text": [
            "Test set accuracy: 1.0\n",
            "Test loss: 4.406404353912443e-05\n"
          ]
        }
      ]
    },
    {
      "cell_type": "code",
      "source": [
        "scripted_model = torch.jit.script(model)\n",
        "scripted_model.save('./model_armour.pt')"
      ],
      "metadata": {
        "id": "M9jZ4w-N_9a1"
      },
      "execution_count": null,
      "outputs": []
    }
  ]
}