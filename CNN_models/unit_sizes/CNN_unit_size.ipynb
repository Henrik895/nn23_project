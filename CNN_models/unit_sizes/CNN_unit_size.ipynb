{
  "nbformat": 4,
  "nbformat_minor": 0,
  "metadata": {
    "colab": {
      "provenance": [],
      "gpuType": "T4"
    },
    "kernelspec": {
      "name": "python3",
      "display_name": "Python 3"
    },
    "language_info": {
      "name": "python"
    },
    "accelerator": "GPU",
    "gpuClass": "standard"
  },
  "cells": [
    {
      "cell_type": "code",
      "execution_count": null,
      "metadata": {
        "colab": {
          "base_uri": "https://localhost:8080/"
        },
        "id": "ezzn6NX54hv7",
        "outputId": "41f92dd6-ed59-4ce3-f358-bcc10f1d4159"
      },
      "outputs": [
        {
          "output_type": "stream",
          "name": "stdout",
          "text": [
            "Drive already mounted at /content/drive; to attempt to forcibly remount, call drive.mount(\"/content/drive\", force_remount=True).\n"
          ]
        }
      ],
      "source": [
        "import pandas as pd\n",
        "import numpy as np \n",
        "import matplotlib.pyplot as plt\n",
        "import torch\n",
        "from google.colab import drive\n",
        "import os \n",
        "import os.path\n",
        "import cv2\n",
        "import re\n",
        "from sklearn.model_selection import train_test_split\n",
        "from torch.utils.data import DataLoader, TensorDataset\n",
        "from sklearn.model_selection import train_test_split\n",
        "import torchvision\n",
        "from torchvision import transforms\n",
        "from torch.utils.data import TensorDataset, DataLoader\n",
        "import torch.nn as nn\n",
        "import torch.optim as optim\n",
        "drive.mount('/content/drive')"
      ]
    },
    {
      "cell_type": "code",
      "source": [
        "PATH = \"drive/My Drive/nn_project/unit_size_images\"\n",
        "\n",
        "height = 64\n",
        "width = 64\n",
        "\n",
        "mapping_dict = {'team':0, 'squad':1, 'half-platoon':2, 'platoon':3, 'company':4, 'battalion':5}\n",
        "\n",
        "images = np.empty((0, height, width))\n",
        "labels = np.empty((0,))\n",
        "\n",
        "image_urls = [os.path.join(PATH, image_name) for image_name in os.listdir(PATH)]\n",
        "\n",
        "\n",
        "images = np.array([cv2.resize(cv2.imread(image_url, cv2.IMREAD_GRAYSCALE), (width, height), interpolation=cv2.INTER_AREA) for image_url in image_urls])\n",
        "labels = np.array([mapping_dict[image_url.split('_')[-2]] for image_url in image_urls])\n",
        "\n",
        "images = np.expand_dims(images, axis=1)\n",
        "# images = np.delete(images, 0)\n",
        "# labels = np.delete(labels, 0)"
      ],
      "metadata": {
        "id": "XmeI6b2m5gOh"
      },
      "execution_count": null,
      "outputs": []
    },
    {
      "cell_type": "code",
      "source": [
        "plt.imshow(images[0][0], cmap='gray')\n",
        "plt.axis('off') \n",
        "plt.show()"
      ],
      "metadata": {
        "id": "cKEjlnYMQe1O",
        "colab": {
          "base_uri": "https://localhost:8080/",
          "height": 406
        },
        "outputId": "fcdfc387-2ba0-45f5-ae58-cac6a9ad3e37"
      },
      "execution_count": null,
      "outputs": [
        {
          "output_type": "display_data",
          "data": {
            "text/plain": [
              "<Figure size 640x480 with 1 Axes>"
            ],
            "image/png": "[encoded data removed]"
          },
          "metadata": {}
        }
      ]
    },
    {
      "cell_type": "code",
      "source": [
        "images_tensor = torch.from_numpy(images)"
      ],
      "metadata": {
        "id": "0dhtDaddy7r4"
      },
      "execution_count": null,
      "outputs": []
    },
    {
      "cell_type": "code",
      "source": [
        "\n",
        "rotation_angles = 10\n",
        "transform = transforms.Compose([\n",
        "    transforms.ToPILImage(),\n",
        "    transforms.RandomRotation(rotation_angles),\n",
        "    transforms.ToTensor()\n",
        "])"
      ],
      "metadata": {
        "id": "aJEUR7-azDBZ"
      },
      "execution_count": null,
      "outputs": []
    },
    {
      "cell_type": "code",
      "source": [
        "images_augm = np.array([np.array(transform(image_tensor))*255 for image_tensor in images_tensor])\n",
        "labels_augm = np.repeat(labels, repeats=1)"
      ],
      "metadata": {
        "id": "j1uemuRFsTHz"
      },
      "execution_count": null,
      "outputs": []
    },
    {
      "cell_type": "code",
      "source": [
        "images_final = np.concatenate((images, images_augm), axis=0)\n",
        "labels_final = np.concatenate((labels, labels_augm), axis=0)"
      ],
      "metadata": {
        "id": "zvai35JktnJl"
      },
      "execution_count": null,
      "outputs": []
    },
    {
      "cell_type": "code",
      "source": [
        "X_train, X_test, y_train, y_test = train_test_split(images_final, labels_final, test_size=0.2, random_state=42)\n",
        "X_train, X_val, y_train, y_val = train_test_split(X_train, y_train, test_size=0.3, random_state=42)\n",
        "\n",
        "X_train = torch.tensor(X_train).float()\n",
        "y_train = torch.tensor(y_train).long()\n",
        "X_val = torch.tensor(X_val).float()\n",
        "y_val = torch.tensor(y_val).long()\n",
        "X_test = torch.tensor(X_test).float()\n",
        "y_test = torch.tensor(y_test).long()\n",
        "\n",
        "train_dataset = TensorDataset(X_train, y_train)\n",
        "val_dataset = TensorDataset(X_val, y_val)\n",
        "test_dataset = TensorDataset(X_test, y_test)\n",
        "\n",
        "train_loader = DataLoader(train_dataset, batch_size=30, shuffle=True)\n",
        "val_loader = DataLoader(val_dataset, batch_size=30, shuffle=False)\n",
        "test_loader = DataLoader(test_dataset, batch_size=20, shuffle=False)"
      ],
      "metadata": {
        "id": "iAQCgP0jI1Ot"
      },
      "execution_count": null,
      "outputs": []
    },
    {
      "cell_type": "code",
      "source": [
        "class MyModel(nn.Module):\n",
        "    def __init__(self):\n",
        "        super(MyModel, self).__init__()\n",
        "        self.conv1 = nn.Conv2d(1, 50, kernel_size=2, stride=1)\n",
        "        self.bn1 = nn.BatchNorm2d(50)\n",
        "        self.relu1 = nn.ReLU()\n",
        "        self.conv2 = nn.Conv2d(50, 50, kernel_size=3, stride=2)\n",
        "        self.bn2 = nn.BatchNorm2d(50)\n",
        "        self.relu2 = nn.ReLU()\n",
        "        self.pool3 = nn.MaxPool2d(kernel_size=3, stride=2)\n",
        "        self.bn3 = nn.BatchNorm2d(50)\n",
        "        self.relu3 = nn.ReLU()\n",
        "        self.conv3 = nn.Conv2d(50, 50, kernel_size=3, stride=1)\n",
        "        self.bn4 = nn.BatchNorm2d(50)\n",
        "        self.relu4 = nn.ReLU()\n",
        "        self.flatten = nn.Flatten()\n",
        "        self.fc1 = nn.Linear(8450, 1000)\n",
        "        self.bn5 = nn.BatchNorm1d(1000)\n",
        "        self.relu5 = nn.ReLU()\n",
        "        self.dropout1 = nn.Dropout(0.5)\n",
        "        self.fc2 = nn.Linear(1000, 100)\n",
        "        self.bn6 = nn.BatchNorm1d(100)\n",
        "        self.relu6 = nn.ReLU()\n",
        "        self.dropout2 = nn.Dropout(0.5)\n",
        "        self.fc3 = nn.Linear(100, 6)\n",
        "        self.softmax = nn.Softmax(dim=1)\n",
        "\n",
        "    \n",
        "    def forward(self, x):\n",
        "      x = self.conv1(x)\n",
        "      x = self.bn1(x)\n",
        "      x = self.relu1(x)\n",
        "      x = self.conv2(x)\n",
        "      x = self.bn2(x)\n",
        "      x = self.relu2(x)\n",
        "      x = self.pool3(x)\n",
        "      x = self.bn3(x)\n",
        "      x = self.relu3(x)\n",
        "      x = self.conv3(x)\n",
        "      x = self.bn4(x)\n",
        "      x = self.relu4(x)\n",
        "      x = self.flatten(x)\n",
        "      x = self.fc1(x)\n",
        "      x = self.bn5(x)\n",
        "      x = self.relu5(x)\n",
        "      x = self.dropout1(x)\n",
        "      x = self.fc2(x)\n",
        "      x = self.bn6(x)\n",
        "      x = self.relu6(x)\n",
        "      x = self.dropout2(x)\n",
        "      x = self.fc3(x)\n",
        "      x = self.softmax(x)\n",
        "      return x"
      ],
      "metadata": {
        "id": "EMRObLPwT3yz"
      },
      "execution_count": null,
      "outputs": []
    },
    {
      "cell_type": "code",
      "execution_count": null,
      "metadata": {
        "id": "GRzl5tztuMAZ"
      },
      "outputs": [],
      "source": [
        "def train(model, train_loader, criterion, optimizer, device):\n",
        "    \"\"\"\n",
        "    Function that trains a model using the provided DataLoader, loss function (criterion), and optimizer.\n",
        "    It iterates through the mini-batches in the DataLoader, computes the model's output, calculates the loss, and updates the model's parameters using the optimizer.\n",
        "    \"\"\"\n",
        "    model.train() \n",
        "    running_loss = 0.0\n",
        "\n",
        "    for inputs, targets in train_loader:\n",
        "        inputs, targets = inputs.to(device), targets.to(device)\n",
        "\n",
        "        optimizer.zero_grad()  \n",
        "\n",
        "        outputs = model(inputs)  \n",
        "        loss = criterion(outputs, targets) \n",
        "\n",
        "        loss.backward() \n",
        "        optimizer.step() \n",
        "\n",
        "        running_loss += loss.item()  \n",
        "\n",
        "    return running_loss / len(train_loader) "
      ]
    },
    {
      "cell_type": "code",
      "source": [
        "def validate(model, val_loader, criterion, device):\n",
        "    \"\"\"\n",
        "    Function that evaluates a model on a validation dataset using the provided DataLoader and loss function (criterion). \n",
        "    \"\"\"\n",
        "    model.eval() \n",
        "    running_loss = 0.0\n",
        "\n",
        "    with torch.no_grad(): \n",
        "        for inputs, targets in val_loader:\n",
        "            inputs, targets = inputs.to(device), targets.to(device) \n",
        "\n",
        "            outputs = model(inputs)\n",
        "            loss = criterion(outputs, targets) \n",
        "\n",
        "            running_loss += loss.item()\n",
        "\n",
        "    return running_loss / len(val_loader) "
      ],
      "metadata": {
        "id": "fjpW-axhyVjg"
      },
      "execution_count": null,
      "outputs": []
    },
    {
      "cell_type": "code",
      "execution_count": null,
      "metadata": {
        "id": "N1dAV0fv0Z82"
      },
      "outputs": [],
      "source": [
        "def calculate_accuracy(model, data_loader, device, calculate_predictions = False):\n",
        "    \"\"\"A function that calculate the accuracy of a model\"\"\"\n",
        "    model.eval()  \n",
        "    correct = 0\n",
        "    total = 0\n",
        "\n",
        "    predictions = np.empty((0,))\n",
        "\n",
        "    with torch.no_grad():  \n",
        "        for images, labels in data_loader:\n",
        "            images = images.to(device)\n",
        "            labels = labels.to(device)\n",
        " \n",
        "            outputs = model(images)\n",
        "\n",
        "            _, predicted = torch.max(outputs.data, 1)\n",
        "            if calculate_predictions:\n",
        "              predictions = np.concatenate((predictions, np.array(predicted.to(\"cpu\"))), axis=0)\n",
        "\n",
        "            total += labels.size(0)\n",
        "            correct += (predicted == labels).sum().item()\n",
        "\n",
        "    accuracy = correct / total\n",
        "\n",
        "    return (accuracy, predictions)"
      ]
    },
    {
      "cell_type": "code",
      "source": [
        "model = MyModel()\n",
        "criterion = nn.CrossEntropyLoss()\n",
        "optimizer = optim.Adam(model.parameters(), lr=0.003)\n",
        "print(model)"
      ],
      "metadata": {
        "colab": {
          "base_uri": "https://localhost:8080/"
        },
        "id": "3xDApDAVV8mX",
        "outputId": "933a45f4-6c4b-499a-f603-065234f9be95"
      },
      "execution_count": null,
      "outputs": [
        {
          "output_type": "stream",
          "name": "stdout",
          "text": [
            "MyModel(\n",
            "  (conv1): Conv2d(1, 50, kernel_size=(2, 2), stride=(1, 1))\n",
            "  (bn1): BatchNorm2d(50, eps=1e-05, momentum=0.1, affine=True, track_running_stats=True)\n",
            "  (relu1): ReLU()\n",
            "  (conv2): Conv2d(50, 50, kernel_size=(3, 3), stride=(2, 2))\n",
            "  (bn2): BatchNorm2d(50, eps=1e-05, momentum=0.1, affine=True, track_running_stats=True)\n",
            "  (relu2): ReLU()\n",
            "  (pool3): MaxPool2d(kernel_size=3, stride=2, padding=0, dilation=1, ceil_mode=False)\n",
            "  (bn3): BatchNorm2d(50, eps=1e-05, momentum=0.1, affine=True, track_running_stats=True)\n",
            "  (relu3): ReLU()\n",
            "  (conv3): Conv2d(50, 50, kernel_size=(3, 3), stride=(1, 1))\n",
            "  (bn4): BatchNorm2d(50, eps=1e-05, momentum=0.1, affine=True, track_running_stats=True)\n",
            "  (relu4): ReLU()\n",
            "  (flatten): Flatten(start_dim=1, end_dim=-1)\n",
            "  (fc1): Linear(in_features=8450, out_features=1000, bias=True)\n",
            "  (bn5): BatchNorm1d(1000, eps=1e-05, momentum=0.1, affine=True, track_running_stats=True)\n",
            "  (relu5): ReLU()\n",
            "  (dropout1): Dropout(p=0.5, inplace=False)\n",
            "  (fc2): Linear(in_features=1000, out_features=100, bias=True)\n",
            "  (bn6): BatchNorm1d(100, eps=1e-05, momentum=0.1, affine=True, track_running_stats=True)\n",
            "  (relu6): ReLU()\n",
            "  (dropout2): Dropout(p=0.5, inplace=False)\n",
            "  (fc3): Linear(in_features=100, out_features=6, bias=True)\n",
            "  (softmax): Softmax(dim=1)\n",
            ")\n"
          ]
        }
      ]
    },
    {
      "cell_type": "code",
      "source": [
        "torch.manual_seed(0)\n",
        "\n",
        "device = torch.device(\"cuda\" if torch.cuda.is_available() else \"cpu\")\n",
        "\n",
        "model = model.to(device)\n",
        "\n",
        "num_epochs = 50\n",
        "\n",
        "history = {\n",
        "    'train_loss': [],\n",
        "    'val_loss': [],\n",
        "    'train_accuracy': [],\n",
        "    'val_accuracy': []\n",
        "}\n",
        "\n",
        "for epoch in range(num_epochs):\n",
        "\n",
        "    train_loss = train(model, train_loader, criterion, optimizer, device)\n",
        "    history['train_loss'].append(train_loss)\n",
        "    train_accuracy, _ = calculate_accuracy(model, train_loader, device)\n",
        "    history[\"train_accuracy\"].append(train_accuracy)\n",
        "\n",
        "    val_loss = validate(model, val_loader, criterion, device)\n",
        "    history['val_loss'].append(val_loss)\n",
        "    val_accuracy, _  = calculate_accuracy(model, val_loader, device)\n",
        "    history[\"val_accuracy\"].append(val_accuracy)\n",
        "    \n",
        "    print(f\"Epoch {epoch+1}/{num_epochs}\")\n",
        "    print(f\"Train Loss: {train_loss:.4f} | Validation Loss: {val_loss:.4f}\")\n",
        "    print(f\"Train accuracy: {train_accuracy:.4f} | Validation accuracy: {val_accuracy:.4f}\")"
      ],
      "metadata": {
        "colab": {
          "base_uri": "https://localhost:8080/"
        },
        "id": "yq64WFgKSIlR",
        "outputId": "b39b557e-35bd-413f-fbc0-c65b518d8452"
      },
      "execution_count": null,
      "outputs": [
        {
          "output_type": "stream",
          "name": "stdout",
          "text": [
            "Epoch 1/50\n",
            "Train Loss: 1.6002 | Validation Loss: 1.6336\n",
            "Train accuracy: 0.5232 | Validation accuracy: 0.3900\n",
            "Epoch 2/50\n",
            "Train Loss: 1.3470 | Validation Loss: 1.2725\n",
            "Train accuracy: 0.9464 | Validation accuracy: 0.8838\n",
            "Epoch 3/50\n",
            "Train Loss: 1.1729 | Validation Loss: 1.1355\n",
            "Train accuracy: 0.9821 | Validation accuracy: 0.9295\n",
            "Epoch 4/50\n",
            "Train Loss: 1.0950 | Validation Loss: 1.0900\n",
            "Train accuracy: 0.9929 | Validation accuracy: 0.9627\n",
            "Epoch 5/50\n",
            "Train Loss: 1.0721 | Validation Loss: 1.0738\n",
            "Train accuracy: 0.9982 | Validation accuracy: 0.9751\n",
            "Epoch 6/50\n",
            "Train Loss: 1.0682 | Validation Loss: 1.0626\n",
            "Train accuracy: 0.9982 | Validation accuracy: 0.9876\n",
            "Epoch 7/50\n",
            "Train Loss: 1.0633 | Validation Loss: 1.0710\n",
            "Train accuracy: 0.9982 | Validation accuracy: 0.9668\n",
            "Epoch 8/50\n",
            "Train Loss: 1.0553 | Validation Loss: 1.0657\n",
            "Train accuracy: 1.0000 | Validation accuracy: 0.9751\n",
            "Epoch 9/50\n",
            "Train Loss: 1.0541 | Validation Loss: 1.0595\n",
            "Train accuracy: 1.0000 | Validation accuracy: 0.9834\n",
            "Epoch 10/50\n",
            "Train Loss: 1.0567 | Validation Loss: 1.0505\n",
            "Train accuracy: 1.0000 | Validation accuracy: 1.0000\n",
            "Epoch 11/50\n",
            "Train Loss: 1.0471 | Validation Loss: 1.0495\n",
            "Train accuracy: 1.0000 | Validation accuracy: 0.9959\n",
            "Epoch 12/50\n",
            "Train Loss: 1.0473 | Validation Loss: 1.0495\n",
            "Train accuracy: 1.0000 | Validation accuracy: 0.9959\n",
            "Epoch 13/50\n",
            "Train Loss: 1.0477 | Validation Loss: 1.0477\n",
            "Train accuracy: 1.0000 | Validation accuracy: 1.0000\n",
            "Epoch 14/50\n",
            "Train Loss: 1.0458 | Validation Loss: 1.0484\n",
            "Train accuracy: 1.0000 | Validation accuracy: 0.9959\n",
            "Epoch 15/50\n",
            "Train Loss: 1.0451 | Validation Loss: 1.0481\n",
            "Train accuracy: 1.0000 | Validation accuracy: 0.9959\n",
            "Epoch 16/50\n",
            "Train Loss: 1.0447 | Validation Loss: 1.0468\n",
            "Train accuracy: 1.0000 | Validation accuracy: 1.0000\n",
            "Epoch 17/50\n",
            "Train Loss: 1.0449 | Validation Loss: 1.0480\n",
            "Train accuracy: 1.0000 | Validation accuracy: 0.9917\n",
            "Epoch 18/50\n",
            "Train Loss: 1.0489 | Validation Loss: 1.0578\n",
            "Train accuracy: 1.0000 | Validation accuracy: 0.9834\n",
            "Epoch 19/50\n",
            "Train Loss: 1.0454 | Validation Loss: 1.0492\n",
            "Train accuracy: 1.0000 | Validation accuracy: 0.9959\n",
            "Epoch 20/50\n",
            "Train Loss: 1.0509 | Validation Loss: 1.0567\n",
            "Train accuracy: 0.9982 | Validation accuracy: 0.9834\n",
            "Epoch 21/50\n",
            "Train Loss: 1.0588 | Validation Loss: 1.0583\n",
            "Train accuracy: 1.0000 | Validation accuracy: 0.9876\n",
            "Epoch 22/50\n",
            "Train Loss: 1.0636 | Validation Loss: 1.0716\n",
            "Train accuracy: 0.9964 | Validation accuracy: 0.9710\n",
            "Epoch 23/50\n",
            "Train Loss: 1.0548 | Validation Loss: 1.0584\n",
            "Train accuracy: 0.9982 | Validation accuracy: 0.9917\n",
            "Epoch 24/50\n",
            "Train Loss: 1.0604 | Validation Loss: 1.1561\n",
            "Train accuracy: 0.9143 | Validation accuracy: 0.8755\n",
            "Epoch 25/50\n",
            "Train Loss: 1.0508 | Validation Loss: 1.0513\n",
            "Train accuracy: 1.0000 | Validation accuracy: 0.9917\n",
            "Epoch 26/50\n",
            "Train Loss: 1.0489 | Validation Loss: 1.0644\n",
            "Train accuracy: 1.0000 | Validation accuracy: 0.9793\n",
            "Epoch 27/50\n",
            "Train Loss: 1.0670 | Validation Loss: 1.0520\n",
            "Train accuracy: 0.9964 | Validation accuracy: 1.0000\n",
            "Epoch 28/50\n",
            "Train Loss: 1.0477 | Validation Loss: 1.0508\n",
            "Train accuracy: 0.9982 | Validation accuracy: 0.9959\n",
            "Epoch 29/50\n",
            "Train Loss: 1.0447 | Validation Loss: 1.0504\n",
            "Train accuracy: 1.0000 | Validation accuracy: 0.9917\n",
            "Epoch 30/50\n",
            "Train Loss: 1.0470 | Validation Loss: 1.0454\n",
            "Train accuracy: 1.0000 | Validation accuracy: 1.0000\n",
            "Epoch 31/50\n",
            "Train Loss: 1.0452 | Validation Loss: 1.0522\n",
            "Train accuracy: 1.0000 | Validation accuracy: 0.9917\n",
            "Epoch 32/50\n",
            "Train Loss: 1.0460 | Validation Loss: 1.0483\n",
            "Train accuracy: 1.0000 | Validation accuracy: 0.9959\n",
            "Epoch 33/50\n",
            "Train Loss: 1.0458 | Validation Loss: 1.0459\n",
            "Train accuracy: 1.0000 | Validation accuracy: 1.0000\n",
            "Epoch 34/50\n",
            "Train Loss: 1.0454 | Validation Loss: 1.0512\n",
            "Train accuracy: 1.0000 | Validation accuracy: 0.9917\n",
            "Epoch 35/50\n",
            "Train Loss: 1.0457 | Validation Loss: 1.0489\n",
            "Train accuracy: 1.0000 | Validation accuracy: 0.9959\n",
            "Epoch 36/50\n",
            "Train Loss: 1.0449 | Validation Loss: 1.0476\n",
            "Train accuracy: 1.0000 | Validation accuracy: 1.0000\n",
            "Epoch 37/50\n",
            "Train Loss: 1.0453 | Validation Loss: 1.0580\n",
            "Train accuracy: 0.9982 | Validation accuracy: 0.9834\n",
            "Epoch 38/50\n",
            "Train Loss: 1.0484 | Validation Loss: 1.0452\n",
            "Train accuracy: 0.9982 | Validation accuracy: 1.0000\n",
            "Epoch 39/50\n",
            "Train Loss: 1.0477 | Validation Loss: 1.0474\n",
            "Train accuracy: 1.0000 | Validation accuracy: 0.9959\n",
            "Epoch 40/50\n",
            "Train Loss: 1.0453 | Validation Loss: 1.0475\n",
            "Train accuracy: 1.0000 | Validation accuracy: 0.9959\n",
            "Epoch 41/50\n",
            "Train Loss: 1.0460 | Validation Loss: 1.0469\n",
            "Train accuracy: 1.0000 | Validation accuracy: 0.9959\n",
            "Epoch 42/50\n",
            "Train Loss: 1.0491 | Validation Loss: 1.0492\n",
            "Train accuracy: 1.0000 | Validation accuracy: 0.9959\n",
            "Epoch 43/50\n",
            "Train Loss: 1.0467 | Validation Loss: 1.0476\n",
            "Train accuracy: 1.0000 | Validation accuracy: 0.9959\n",
            "Epoch 44/50\n",
            "Train Loss: 1.0449 | Validation Loss: 1.0514\n",
            "Train accuracy: 1.0000 | Validation accuracy: 0.9917\n",
            "Epoch 45/50\n",
            "Train Loss: 1.0508 | Validation Loss: 1.0461\n",
            "Train accuracy: 0.9982 | Validation accuracy: 1.0000\n",
            "Epoch 46/50\n",
            "Train Loss: 1.0518 | Validation Loss: 1.0620\n",
            "Train accuracy: 0.9946 | Validation accuracy: 0.9834\n",
            "Epoch 47/50\n",
            "Train Loss: 1.0480 | Validation Loss: 1.0504\n",
            "Train accuracy: 1.0000 | Validation accuracy: 0.9959\n",
            "Epoch 48/50\n",
            "Train Loss: 1.0460 | Validation Loss: 1.0478\n",
            "Train accuracy: 1.0000 | Validation accuracy: 0.9959\n",
            "Epoch 49/50\n",
            "Train Loss: 1.0449 | Validation Loss: 1.0502\n",
            "Train accuracy: 1.0000 | Validation accuracy: 0.9959\n",
            "Epoch 50/50\n",
            "Train Loss: 1.0465 | Validation Loss: 1.0463\n",
            "Train accuracy: 1.0000 | Validation accuracy: 1.0000\n"
          ]
        }
      ]
    },
    {
      "cell_type": "code",
      "source": [
        "import matplotlib.pyplot as plt\n",
        "\n",
        "plt.figure(figsize=(16, 6))\n",
        "\n",
        "plt.subplot(1, 2, 1)\n",
        "plt.plot(history[\"train_loss\"])\n",
        "plt.plot(history[\"val_loss\"])\n",
        "plt.xlabel('Epoch')\n",
        "plt.ylabel('Loss')\n",
        "plt.legend(['Training', 'Validation'])\n",
        "plt.title('Loss')\n",
        "\n",
        "plt.subplot(1, 2, 2)\n",
        "plt.plot(history[\"train_accuracy\"])\n",
        "plt.plot(history[\"val_accuracy\"])\n",
        "plt.xlabel('Epoch')\n",
        "plt.ylabel('Accuracy')\n",
        "plt.legend(['Training', 'Validation'])\n",
        "plt.title('Accuracy')\n",
        "\n",
        "plt.show()"
      ],
      "metadata": {
        "colab": {
          "base_uri": "https://localhost:8080/",
          "height": 564
        },
        "id": "McAWJvqcB1JM",
        "outputId": "ef73a590-fbe3-448b-824f-6fde97390dd7"
      },
      "execution_count": null,
      "outputs": [
        {
          "output_type": "display_data",
          "data": {
            "text/plain": [
              "<Figure size 1600x600 with 2 Axes>"
            ],
            "image/png": "[encoded data removed]"
          },
          "metadata": {}
        }
      ]
    },
    {
      "cell_type": "code",
      "source": [
        "test_accuracy, test_predictions = calculate_accuracy(model, test_loader, device, calculate_predictions=True)\n",
        "test_loss = validate(model, test_loader, criterion, device)\n",
        "print(\"Test set accuracy:\", test_accuracy)\n",
        "print(\"Test loss:\", test_loss)"
      ],
      "metadata": {
        "colab": {
          "base_uri": "https://localhost:8080/"
        },
        "id": "faeNzRS7CJgH",
        "outputId": "5cb8860a-057f-47b6-8b34-a39da40597cb"
      },
      "execution_count": null,
      "outputs": [
        {
          "output_type": "stream",
          "name": "stdout",
          "text": [
            "Test set accuracy: 1.0\n",
            "Test loss: 1.0441648851741443\n"
          ]
        }
      ]
    },
    {
      "cell_type": "code",
      "source": [
        "from sklearn.metrics import confusion_matrix\n",
        "y_test = np.array(y_test)\n",
        "\n",
        "conf_matrix = confusion_matrix(y_true=y_test, y_pred=test_predictions)\n",
        "\n",
        "fig, ax = plt.subplots(figsize=(7.5, 7.5))\n",
        "ax.matshow(conf_matrix, cmap=plt.cm.Blues, alpha=0.3)\n",
        "for i in range(conf_matrix.shape[0]):\n",
        "    for j in range(conf_matrix.shape[1]):\n",
        "        ax.text(x=j, y=i,s=conf_matrix[i, j], va='center', ha='center', size='xx-large')\n",
        " \n",
        "plt.xlabel('Predictions', fontsize=18)\n",
        "plt.ylabel('Actuals', fontsize=18)\n",
        "plt.title('Confusion Matrix', fontsize=18)\n",
        "plt.show()"
      ],
      "metadata": {
        "colab": {
          "base_uri": "https://localhost:8080/",
          "height": 699
        },
        "id": "L2YPIrG27GsL",
        "outputId": "1996e56d-962d-4c02-a3ad-32148822b0e6"
      },
      "execution_count": null,
      "outputs": [
        {
          "output_type": "display_data",
          "data": {
            "text/plain": [
              "<Figure size 750x750 with 1 Axes>"
            ],
            "image/png": "[encoded data removed]"
          },
          "metadata": {}
        }
      ]
    },
    {
      "cell_type": "code",
      "source": [
        "scripted_model = torch.jit.script(model)\n",
        "scripted_model.save('./model_unit_size.pt')"
      ],
      "metadata": {
        "id": "hLRW_fPoYV0b"
      },
      "execution_count": null,
      "outputs": []
    }
  ]
}