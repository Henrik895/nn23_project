{
 "cells": [
  {
   "cell_type": "code",
   "execution_count": 1,
   "id": "c6711699",
   "metadata": {},
   "outputs": [],
   "source": [
    "import matplotlib.pyplot as plt\n",
    "from pandas.core.common import flatten\n",
    "import numpy as np\n",
    "\n",
    "import torch\n",
    "from torch import nn\n",
    "from torch import optim\n",
    "import torch.nn.functional as F\n",
    "from torchvision import datasets, transforms, models\n",
    "from torch.utils.data import Dataset, DataLoader\n",
    "\n",
    "import albumentations as A\n",
    "from albumentations.pytorch import ToTensorV2\n",
    "import cv2\n",
    "\n",
    "import glob\n",
    "from tqdm import tqdm"
   ]
  },
  {
   "cell_type": "markdown",
   "id": "5d4dbf51",
   "metadata": {},
   "source": [
    "Dataloaders created with the help of: https://towardsdatascience.com/custom-dataset-in-pytorch-part-1-images-2df3152895"
   ]
  },
  {
   "cell_type": "code",
   "execution_count": 2,
   "id": "df616034",
   "metadata": {},
   "outputs": [],
   "source": [
    "transforms = A.Compose(\n",
    "    [\n",
    "        A.SmallestMaxSize(max_size=64),\n",
    "        A.RandomCrop(height=64, width=64),\n",
    "        A.Normalize(mean=(0.485, 0.456, 0.406), std=(0.229, 0.224, 0.225)),\n",
    "        ToTensorV2(),\n",
    "    ]\n",
    ")"
   ]
  },
  {
   "cell_type": "code",
   "execution_count": 3,
   "id": "187ac340",
   "metadata": {},
   "outputs": [],
   "source": [
    "train_data_path = 'generated_mortar/train' \n",
    "test_data_path = 'generated_mortar/test'\n",
    "\n",
    "train_image_paths = []\n",
    "\n",
    "for data_path in glob.glob(train_data_path + '/*'):\n",
    "    train_image_paths.append(data_path)\n",
    "    data_path = data_path.replace(train_data_path, '')\n",
    "    \n",
    "train_image_paths, valid_image_paths = train_image_paths[:int(0.8*len(train_image_paths))], train_image_paths[int(0.8*len(train_image_paths)):]\n",
    "    \n",
    "test_image_paths = []\n",
    "\n",
    "for data_path in glob.glob(test_data_path + '/*'):\n",
    "    test_image_paths.append(data_path)\n",
    "    data_path = data_path.replace(test_data_path, '')"
   ]
  },
  {
   "cell_type": "code",
   "execution_count": 4,
   "id": "7a327957",
   "metadata": {},
   "outputs": [
    {
     "name": "stdout",
     "output_type": "stream",
     "text": [
      "Train size: 640\n",
      "Valid size: 160\n",
      "Test size: 200\n"
     ]
    }
   ],
   "source": [
    "print(\"Train size: {}\\nValid size: {}\\nTest size: {}\".format(len(train_image_paths), len(valid_image_paths), len(test_image_paths)))"
   ]
  },
  {
   "cell_type": "code",
   "execution_count": 5,
   "id": "53f9fe0e",
   "metadata": {},
   "outputs": [],
   "source": [
    "class SymbolDataset(Dataset):\n",
    "    def __init__(self, image_paths, transform=False):\n",
    "        self.image_paths = image_paths\n",
    "        self.transform = transform\n",
    "        \n",
    "    def __len__(self):\n",
    "        return len(self.image_paths)\n",
    "\n",
    "    def __getitem__(self, idx):\n",
    "        image_filepath = self.image_paths[idx]\n",
    "        image = cv2.imread(image_filepath)\n",
    "        image = cv2.cvtColor(image, cv2.COLOR_BGR2RGB)\n",
    "        \n",
    "        label = 1 if image_filepath.split('_')[-1].split('.')[0] == 'mortar' else 0\n",
    "        if self.transform is not None:\n",
    "            image = self.transform(image=image)[\"image\"]\n",
    "        \n",
    "        return image, label\n",
    "\n",
    "train_dataset = SymbolDataset(train_image_paths,transforms)\n",
    "valid_dataset = SymbolDataset(valid_image_paths,transforms)\n",
    "test_dataset = SymbolDataset(test_image_paths,transforms)"
   ]
  },
  {
   "cell_type": "code",
   "execution_count": 6,
   "id": "a1774f30",
   "metadata": {},
   "outputs": [],
   "source": [
    "train_loader = DataLoader(\n",
    "    train_dataset, batch_size=16, shuffle=True\n",
    ")\n",
    "\n",
    "valid_loader = DataLoader(\n",
    "    valid_dataset, batch_size=16, shuffle=True\n",
    ")\n",
    "\n",
    "\n",
    "test_loader = DataLoader(\n",
    "    test_dataset, batch_size=16, shuffle=False\n",
    ")"
   ]
  },
  {
   "cell_type": "code",
   "execution_count": 7,
   "id": "6d45a701",
   "metadata": {},
   "outputs": [],
   "source": [
    "import torch.nn as nn\n",
    "import torch.nn.functional as F\n",
    "\n",
    "\n",
    "class Model(nn.Module):\n",
    "    def __init__(self):\n",
    "        super().__init__()\n",
    "        self.conv1 = nn.Conv2d(3, 6, 5)\n",
    "        self.pool = nn.MaxPool2d(2, 2)\n",
    "        self.conv2 = nn.Conv2d(6, 16, 5)\n",
    "        self.fc1 = nn.Linear(2704, 120)\n",
    "        self.fc2 = nn.Linear(120, 84)\n",
    "        self.fc3 = nn.Linear(84, 2)\n",
    "\n",
    "    def forward(self, x):\n",
    "        x = self.pool(F.relu(self.conv1(x)))\n",
    "        x = self.pool(F.relu(self.conv2(x)))\n",
    "        x = torch.flatten(x, 1) # flatten all dimensions except batch\n",
    "        x = F.relu(self.fc1(x))\n",
    "        x = F.relu(self.fc2(x))\n",
    "        x = self.fc3(x)\n",
    "        return x\n",
    "\n",
    "\n",
    "model = Model()"
   ]
  },
  {
   "cell_type": "code",
   "execution_count": 8,
   "id": "6fc58dde",
   "metadata": {},
   "outputs": [],
   "source": [
    "import torch.optim as optim\n",
    "\n",
    "criterion = nn.CrossEntropyLoss()\n",
    "optimizer = optim.SGD(model.parameters(), lr=0.0001, momentum=0.9)"
   ]
  },
  {
   "cell_type": "code",
   "execution_count": 9,
   "id": "e188827a",
   "metadata": {},
   "outputs": [],
   "source": [
    "# Code for validation and testing\n",
    "def test(model, data_loader, criterion):\n",
    "    running_loss = 0.0\n",
    "    correct = 0\n",
    "    total = 0\n",
    "    \n",
    "    model.eval()\n",
    "    \n",
    "    for data in data_loader:\n",
    "        inputs, labels = data\n",
    "        \n",
    "        outputs = model(inputs)\n",
    "        \n",
    "        preds_bool = torch.argmax(outputs, dim=1).numpy() == labels.numpy()\n",
    "        correct += np.sum(preds_bool)\n",
    "        total += preds_bool.size\n",
    "\n",
    "        loss = criterion(outputs, labels)\n",
    "        running_loss += loss.item()\n",
    "        \n",
    "    test_loss = running_loss / len(data_loader)\n",
    "    test_acc = correct / total\n",
    "\n",
    "    return test_loss, test_acc"
   ]
  },
  {
   "cell_type": "code",
   "execution_count": 10,
   "id": "22941ab3",
   "metadata": {},
   "outputs": [
    {
     "name": "stdout",
     "output_type": "stream",
     "text": [
      "Epoch 5 train - loss: 0.688600954413414 acc: 0.64375\n",
      "Epoch 5 val - loss: 0.6878198206424713 acc: 0.64375\n",
      "Epoch 10 train - loss: 0.6806808486580849 acc: 0.6640625\n",
      "Epoch 10 val - loss: 0.6789213299751282 acc: 0.7\n",
      "Epoch 15 train - loss: 0.6687930434942245 acc: 0.7578125\n",
      "Epoch 15 val - loss: 0.6661448359489441 acc: 0.74375\n",
      "Epoch 20 train - loss: 0.6471274957060814 acc: 0.809375\n",
      "Epoch 20 val - loss: 0.6467489004135132 acc: 0.8125\n",
      "Epoch 25 train - loss: 0.6038496658205986 acc: 0.83125\n",
      "Epoch 25 val - loss: 0.5972889840602875 acc: 0.8125\n",
      "Epoch 30 train - loss: 0.521181221306324 acc: 0.840625\n",
      "Epoch 30 val - loss: 0.5070524662733078 acc: 0.825\n",
      "Epoch 35 train - loss: 0.4040218353271484 acc: 0.84375\n",
      "Epoch 35 val - loss: 0.37651440799236296 acc: 0.84375\n",
      "Epoch 40 train - loss: 0.3061519473791122 acc: 0.903125\n",
      "Epoch 40 val - loss: 0.2729281924664974 acc: 0.89375\n",
      "Epoch 45 train - loss: 0.2548359455540776 acc: 0.9375\n",
      "Epoch 45 val - loss: 0.19503890424966813 acc: 0.975\n",
      "Finished Training\n"
     ]
    }
   ],
   "source": [
    "# Code for training the model\n",
    "train_losses = []\n",
    "train_accs = []\n",
    "\n",
    "val_losses = []\n",
    "val_accs = []\n",
    "\n",
    "for epoch in range(1, 46):\n",
    "    running_loss = 0.0\n",
    "    correct = 0\n",
    "    total = 0\n",
    "    for data in train_loader:\n",
    "        inputs, labels = data\n",
    "        \n",
    "        optimizer.zero_grad()\n",
    "\n",
    "        outputs = model(inputs)\n",
    "        \n",
    "        preds_bool = torch.argmax(outputs, dim=1).numpy() == labels.numpy()\n",
    "        correct += np.sum(preds_bool)\n",
    "        total += preds_bool.size\n",
    "\n",
    "        loss = criterion(outputs, labels)\n",
    "        loss.backward()\n",
    "        \n",
    "        optimizer.step()\n",
    "\n",
    "        running_loss += loss.item()\n",
    "    \n",
    "    train_acc = correct / total\n",
    "    train_accs.append(train_acc)\n",
    "    \n",
    "    train_loss = running_loss / len(train_loader)\n",
    "    train_losses.append(train_loss)\n",
    "    \n",
    "    val_loss, val_acc = test(model, valid_loader, criterion)\n",
    "    val_losses.append(val_loss)\n",
    "    val_accs.append(val_acc)\n",
    "    \n",
    "    if epoch % 5 == 0:\n",
    "        print(f'Epoch {epoch} train - loss:', train_loss, 'acc:', train_acc)\n",
    "        print(f'Epoch {epoch} val - loss:', val_loss, 'acc:', val_acc)\n",
    "        \n",
    "        \n",
    "print('Finished Training')"
   ]
  },
  {
   "cell_type": "code",
   "execution_count": 11,
   "id": "8e5fecff",
   "metadata": {},
   "outputs": [
    {
     "data": {
      "image/png": "[encoded data removed]",
      "text/plain": [
       "<Figure size 640x480 with 1 Axes>"
      ]
     },
     "metadata": {},
     "output_type": "display_data"
    }
   ],
   "source": [
    "# Model train/val losses\n",
    "plt.title('Model losses')\n",
    "\n",
    "plt.plot(train_losses)\n",
    "plt.plot(val_losses)\n",
    "\n",
    "plt.ylabel('Loss')\n",
    "plt.xlabel('Epoch')\n",
    "\n",
    "plt.legend(['Train', 'Validation'], loc='upper right')\n",
    "\n",
    "plt.show()"
   ]
  },
  {
   "cell_type": "code",
   "execution_count": 12,
   "id": "92e38603",
   "metadata": {},
   "outputs": [
    {
     "data": {
      "image/png": "[encoded data removed]",
      "text/plain": [
       "<Figure size 640x480 with 1 Axes>"
      ]
     },
     "metadata": {},
     "output_type": "display_data"
    }
   ],
   "source": [
    "# Model train/val accuracy\n",
    "plt.title('Model accuracy')\n",
    "\n",
    "plt.plot(train_accs)\n",
    "plt.plot(val_accs)\n",
    "\n",
    "plt.ylabel('Accuracy')\n",
    "plt.xlabel('Epoch')\n",
    "\n",
    "plt.legend(['Train', 'Validation'], loc='upper left')\n",
    "\n",
    "plt.show()"
   ]
  },
  {
   "cell_type": "code",
   "execution_count": 13,
   "id": "86b1306e",
   "metadata": {},
   "outputs": [],
   "source": [
    "test_loss, test_acc = test(model, test_loader, criterion)"
   ]
  },
  {
   "cell_type": "code",
   "execution_count": 14,
   "id": "63f15d11",
   "metadata": {},
   "outputs": [
    {
     "name": "stdout",
     "output_type": "stream",
     "text": [
      "Test loss: 0.23822185282523817\n",
      "Test acc: 0.935\n"
     ]
    }
   ],
   "source": [
    "print('Test loss:', test_loss)\n",
    "print('Test acc:', test_acc)"
   ]
  },
  {
   "cell_type": "code",
   "execution_count": 15,
   "id": "bbd7895d",
   "metadata": {},
   "outputs": [],
   "source": [
    "scripted_model = torch.jit.script(model)\n",
    "scripted_model.save('models/model_mortar.pt')"
   ]
  }
 ],
 "metadata": {
  "kernelspec": {
   "display_name": "Python 3 (ipykernel)",
   "language": "python",
   "name": "python3"
  },
  "language_info": {
   "codemirror_mode": {
    "name": "ipython",
    "version": 3
   },
   "file_extension": ".py",
   "mimetype": "text/x-python",
   "name": "python",
   "nbconvert_exporter": "python",
   "pygments_lexer": "ipython3",
   "version": "3.9.16"
  }
 },
 "nbformat": 4,
 "nbformat_minor": 5
}
