{
 "cells": [
  {
   "cell_type": "code",
   "execution_count": 1,
   "id": "c6711699",
   "metadata": {},
   "outputs": [],
   "source": [
    "import matplotlib.pyplot as plt\n",
    "from pandas.core.common import flatten\n",
    "import numpy as np\n",
    "\n",
    "import torch\n",
    "from torch import nn\n",
    "from torch import optim\n",
    "import torch.nn.functional as F\n",
    "from torchvision import datasets, transforms, models\n",
    "from torch.utils.data import Dataset, DataLoader\n",
    "\n",
    "import albumentations as A\n",
    "from albumentations.pytorch import ToTensorV2\n",
    "import cv2\n",
    "\n",
    "import glob\n",
    "from tqdm import tqdm"
   ]
  },
  {
   "cell_type": "markdown",
   "id": "5d4dbf51",
   "metadata": {},
   "source": [
    "Dataloaders created with the help of: https://towardsdatascience.com/custom-dataset-in-pytorch-part-1-images-2df3152895"
   ]
  },
  {
   "cell_type": "code",
   "execution_count": 2,
   "id": "df616034",
   "metadata": {},
   "outputs": [],
   "source": [
    "transforms = A.Compose(\n",
    "    [\n",
    "        A.Resize(height=64, width=64),\n",
    "        A.Normalize(mean=0.5, std=0.5),\n",
    "        ToTensorV2(),\n",
    "    ]\n",
    ")"
   ]
  },
  {
   "cell_type": "code",
   "execution_count": 3,
   "id": "187ac340",
   "metadata": {},
   "outputs": [],
   "source": [
    "train_data_path = 'generated_missile/train' \n",
    "test_data_path = 'generated_missile/test'\n",
    "\n",
    "train_image_paths = []\n",
    "\n",
    "for data_path in glob.glob(train_data_path + '/*'):\n",
    "    train_image_paths.append(data_path)\n",
    "    data_path = data_path.replace(train_data_path, '')\n",
    "    \n",
    "train_image_paths, valid_image_paths = train_image_paths[:int(0.8*len(train_image_paths))], train_image_paths[int(0.8*len(train_image_paths)):]\n",
    "    \n",
    "test_image_paths = []\n",
    "\n",
    "for data_path in glob.glob(test_data_path + '/*'):\n",
    "    test_image_paths.append(data_path)\n",
    "    data_path = data_path.replace(test_data_path, '')"
   ]
  },
  {
   "cell_type": "code",
   "execution_count": 4,
   "id": "7a327957",
   "metadata": {},
   "outputs": [
    {
     "name": "stdout",
     "output_type": "stream",
     "text": [
      "Train size: 1920\n",
      "Valid size: 480\n",
      "Test size: 600\n"
     ]
    }
   ],
   "source": [
    "print(\"Train size: {}\\nValid size: {}\\nTest size: {}\".format(len(train_image_paths), len(valid_image_paths), len(test_image_paths)))"
   ]
  },
  {
   "cell_type": "code",
   "execution_count": 5,
   "id": "53f9fe0e",
   "metadata": {},
   "outputs": [],
   "source": [
    "class SymbolDataset(Dataset):\n",
    "    def __init__(self, image_paths, transform=False):\n",
    "        self.image_paths = image_paths\n",
    "        self.transform = transform\n",
    "        \n",
    "    def __len__(self):\n",
    "        return len(self.image_paths)\n",
    "\n",
    "    def __getitem__(self, idx):\n",
    "        image_filepath = self.image_paths[idx]\n",
    "        image = cv2.imread(image_filepath, cv2.IMREAD_GRAYSCALE)\n",
    "        image = np.expand_dims(image, axis=2)\n",
    "        \n",
    "        label = 1 if image_filepath.split('_')[-1].split('.')[0] == 'missile' else 0\n",
    "        if self.transform is not None:\n",
    "            image = self.transform(image=image)[\"image\"]\n",
    "        \n",
    "        return image, label\n",
    "\n",
    "train_dataset = SymbolDataset(train_image_paths,transforms)\n",
    "valid_dataset = SymbolDataset(valid_image_paths,transforms)\n",
    "test_dataset = SymbolDataset(test_image_paths,transforms)"
   ]
  },
  {
   "cell_type": "code",
   "execution_count": 6,
   "id": "a1774f30",
   "metadata": {},
   "outputs": [],
   "source": [
    "train_loader = DataLoader(\n",
    "    train_dataset, batch_size=16, shuffle=True\n",
    ")\n",
    "\n",
    "valid_loader = DataLoader(\n",
    "    valid_dataset, batch_size=16, shuffle=True\n",
    ")\n",
    "\n",
    "\n",
    "test_loader = DataLoader(\n",
    "    test_dataset, batch_size=16, shuffle=False\n",
    ")"
   ]
  },
  {
   "cell_type": "code",
   "execution_count": 7,
   "id": "6d45a701",
   "metadata": {},
   "outputs": [],
   "source": [
    "import torch.nn as nn\n",
    "import torch.nn.functional as F\n",
    "\n",
    "\n",
    "class Model(nn.Module):\n",
    "    def __init__(self):\n",
    "        super().__init__()\n",
    "        self.conv1 = nn.Conv2d(1, 50, kernel_size=2, stride=1)\n",
    "        self.bn1 = nn.BatchNorm2d(50)\n",
    "        self.relu1 = nn.ReLU()\n",
    "        self.conv2 = nn.Conv2d(50, 50, kernel_size=3, stride=2)\n",
    "        self.bn2 = nn.BatchNorm2d(50)\n",
    "        self.relu2 = nn.ReLU()\n",
    "        self.pool3 = nn.MaxPool2d(kernel_size=3, stride=2)\n",
    "        self.bn3 = nn.BatchNorm2d(50)\n",
    "        self.relu3 = nn.ReLU()\n",
    "        self.flatten = nn.Flatten()\n",
    "        self.fc1 = nn.Linear(11250, 100)\n",
    "        self.bn4 = nn.BatchNorm1d(100)\n",
    "        self.relu4 = nn.ReLU()\n",
    "        self.dropout = nn.Dropout(0.5)\n",
    "        self.fc2 = nn.Linear(100, 2)\n",
    "\n",
    "    def forward(self, x):\n",
    "        x = self.conv1(x)\n",
    "        x = self.bn1(x)\n",
    "        x = self.relu1(x)\n",
    "        x = self.conv2(x)\n",
    "        x = self.bn2(x)\n",
    "        x = self.relu2(x)\n",
    "        x = self.pool3(x)\n",
    "        x = self.bn3(x)\n",
    "        x = self.relu3(x)\n",
    "        x = self.flatten(x)\n",
    "        x = self.fc1(x)\n",
    "        x = self.bn4(x)\n",
    "        x = self.relu4(x)\n",
    "        x = self.dropout(x)\n",
    "        x = self.fc2(x)\n",
    "        return x\n",
    "\n",
    "\n",
    "model = Model()"
   ]
  },
  {
   "cell_type": "code",
   "execution_count": 8,
   "id": "6fc58dde",
   "metadata": {},
   "outputs": [],
   "source": [
    "import torch.optim as optim\n",
    "\n",
    "criterion = nn.CrossEntropyLoss()\n",
    "optimizer = optim.SGD(model.parameters(), lr=0.0001, momentum=0.9)"
   ]
  },
  {
   "cell_type": "code",
   "execution_count": 9,
   "id": "e188827a",
   "metadata": {},
   "outputs": [],
   "source": [
    "# Code for validation and testing\n",
    "def test(model, data_loader, criterion):\n",
    "    running_loss = 0.0\n",
    "    correct = 0\n",
    "    total = 0\n",
    "    \n",
    "    model.eval()\n",
    "    \n",
    "    for data in data_loader:\n",
    "        inputs, labels = data\n",
    "        \n",
    "        outputs = model(inputs)\n",
    "        \n",
    "        preds_bool = torch.argmax(outputs, dim=1).numpy() == labels.numpy()\n",
    "        correct += np.sum(preds_bool)\n",
    "        total += preds_bool.size\n",
    "\n",
    "        loss = criterion(outputs, labels)\n",
    "        running_loss += loss.item()\n",
    "        \n",
    "    test_loss = running_loss / len(data_loader)\n",
    "    test_acc = correct / total\n",
    "\n",
    "    return test_loss, test_acc"
   ]
  },
  {
   "cell_type": "code",
   "execution_count": 10,
   "id": "22941ab3",
   "metadata": {},
   "outputs": [
    {
     "name": "stdout",
     "output_type": "stream",
     "text": [
      "Epoch 5 train - loss: 0.001871812785975635 acc: 1.0\n",
      "Epoch 5 val - loss: 0.001292737462790683 acc: 1.0\n",
      "Epoch 10 train - loss: 0.0007361129448630285 acc: 1.0\n",
      "Epoch 10 val - loss: 0.0005522131995045735 acc: 1.0\n",
      "Finished Training\n"
     ]
    }
   ],
   "source": [
    "# Code for training the model\n",
    "train_losses = []\n",
    "train_accs = []\n",
    "\n",
    "val_losses = []\n",
    "val_accs = []\n",
    "\n",
    "for epoch in range(1, 11):\n",
    "    running_loss = 0.0\n",
    "    correct = 0\n",
    "    total = 0\n",
    "    for data in train_loader:\n",
    "        inputs, labels = data\n",
    "        \n",
    "        optimizer.zero_grad()\n",
    "\n",
    "        outputs = model(inputs)\n",
    "        \n",
    "        preds_bool = torch.argmax(outputs, dim=1).numpy() == labels.numpy()\n",
    "        correct += np.sum(preds_bool)\n",
    "        total += preds_bool.size\n",
    "\n",
    "        loss = criterion(outputs, labels)\n",
    "        loss.backward()\n",
    "        \n",
    "        optimizer.step()\n",
    "\n",
    "        running_loss += loss.item()\n",
    "    \n",
    "    train_acc = correct / total\n",
    "    train_accs.append(train_acc)\n",
    "    \n",
    "    train_loss = running_loss / len(train_loader)\n",
    "    train_losses.append(train_loss)\n",
    "    \n",
    "    val_loss, val_acc = test(model, valid_loader, criterion)\n",
    "    val_losses.append(val_loss)\n",
    "    val_accs.append(val_acc)\n",
    "    \n",
    "    if epoch % 5 == 0:\n",
    "        print(f'Epoch {epoch} train - loss:', train_loss, 'acc:', train_acc)\n",
    "        print(f'Epoch {epoch} val - loss:', val_loss, 'acc:', val_acc)\n",
    "        \n",
    "        \n",
    "print('Finished Training')"
   ]
  },
  {
   "cell_type": "code",
   "execution_count": 11,
   "id": "8e5fecff",
   "metadata": {},
   "outputs": [
    {
     "data": {
      "image/png": "[encoded data removed]",
      "text/plain": [
       "<Figure size 640x480 with 1 Axes>"
      ]
     },
     "metadata": {},
     "output_type": "display_data"
    }
   ],
   "source": [
    "# Model train/val losses\n",
    "plt.title('Model losses')\n",
    "\n",
    "plt.plot(train_losses)\n",
    "plt.plot(val_losses)\n",
    "\n",
    "plt.ylabel('Loss')\n",
    "plt.xlabel('Epoch')\n",
    "\n",
    "plt.legend(['Train', 'Validation'], loc='upper right')\n",
    "\n",
    "plt.show()"
   ]
  },
  {
   "cell_type": "code",
   "execution_count": 12,
   "id": "92e38603",
   "metadata": {},
   "outputs": [
    {
     "data": {
      "image/png": "[encoded data removed]",
      "text/plain": [
       "<Figure size 640x480 with 1 Axes>"
      ]
     },
     "metadata": {},
     "output_type": "display_data"
    }
   ],
   "source": [
    "# Model train/val accuracy\n",
    "plt.title('Model accuracy')\n",
    "\n",
    "plt.plot(train_accs)\n",
    "plt.plot(val_accs)\n",
    "\n",
    "plt.ylabel('Accuracy')\n",
    "plt.xlabel('Epoch')\n",
    "\n",
    "plt.legend(['Train', 'Validation'], loc='upper left')\n",
    "\n",
    "plt.show()"
   ]
  },
  {
   "cell_type": "code",
   "execution_count": 13,
   "id": "86b1306e",
   "metadata": {},
   "outputs": [],
   "source": [
    "test_loss, test_acc = test(model, test_loader, criterion)"
   ]
  },
  {
   "cell_type": "code",
   "execution_count": 14,
   "id": "63f15d11",
   "metadata": {},
   "outputs": [
    {
     "name": "stdout",
     "output_type": "stream",
     "text": [
      "Test loss: 0.0008802788983494361\n",
      "Test acc: 1.0\n"
     ]
    }
   ],
   "source": [
    "print('Test loss:', test_loss)\n",
    "print('Test acc:', test_acc)"
   ]
  },
  {
   "cell_type": "code",
   "execution_count": 15,
   "id": "dc8e091a",
   "metadata": {},
   "outputs": [],
   "source": [
    "scripted_model = torch.jit.script(model)\n",
    "scripted_model.save('models/model_missile.pt')"
   ]
  }
 ],
 "metadata": {
  "kernelspec": {
   "display_name": "Python 3 (ipykernel)",
   "language": "python",
   "name": "python3"
  },
  "language_info": {
   "codemirror_mode": {
    "name": "ipython",
    "version": 3
   },
   "file_extension": ".py",
   "mimetype": "text/x-python",
   "name": "python",
   "nbconvert_exporter": "python",
   "pygments_lexer": "ipython3",
   "version": "3.9.16"
  }
 },
 "nbformat": 4,
 "nbformat_minor": 5
}
