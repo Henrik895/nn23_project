{
  "cells": [
    {
      "cell_type": "code",
      "execution_count": 1,
      "id": "c6711699",
      "metadata": {
        "id": "c6711699"
      },
      "outputs": [],
      "source": [
        "import matplotlib.pyplot as plt\n",
        "from pandas.core.common import flatten\n",
        "import numpy as np\n",
        "\n",
        "import torch\n",
        "from torch import nn\n",
        "from torch import optim\n",
        "import torch.nn.functional as F\n",
        "from torchvision import datasets, transforms, models\n",
        "from torch.utils.data import Dataset, DataLoader\n",
        "\n",
        "import albumentations as A\n",
        "from albumentations.pytorch import ToTensorV2\n",
        "import cv2\n",
        "\n",
        "import glob\n",
        "import os\n",
        "from google.colab.patches import cv2_imshow\n",
        "from tqdm import tqdm\n",
        "\n",
        "from google.colab import drive"
      ]
    },
    {
      "cell_type": "code",
      "source": [
        "drive.mount('/content/drive')"
      ],
      "metadata": {
        "colab": {
          "base_uri": "https://localhost:8080/"
        },
        "id": "3YByDLrUwgia",
        "outputId": "24c2a84f-df72-4f77-a177-263167defb53"
      },
      "id": "3YByDLrUwgia",
      "execution_count": 2,
      "outputs": [
        {
          "output_type": "stream",
          "name": "stdout",
          "text": [
            "Mounted at /content/drive\n"
          ]
        }
      ]
    },
    {
      "cell_type": "code",
      "source": [
        "!unzip -q drive/MyDrive/F_option.zip"
      ],
      "metadata": {
        "id": "6PcJ4f0Ex52i"
      },
      "id": "6PcJ4f0Ex52i",
      "execution_count": 3,
      "outputs": []
    },
    {
      "cell_type": "markdown",
      "id": "5d4dbf51",
      "metadata": {
        "id": "5d4dbf51"
      },
      "source": [
        "Dataloaders created with the help of: https://towardsdatascience.com/custom-dataset-in-pytorch-part-1-images-2df3152895"
      ]
    },
    {
      "cell_type": "code",
      "execution_count": 71,
      "id": "df616034",
      "metadata": {
        "id": "df616034"
      },
      "outputs": [],
      "source": [
        "transforms = A.Compose(\n",
        "    [\n",
        "        A.SmallestMaxSize(max_size=64),\n",
        "        A.RandomCrop(height=64, width=64),\n",
        "        A.Normalize(mean=(0.485, 0.456, 0.406), std=(0.229, 0.224, 0.225)),\n",
        "        ToTensorV2(),\n",
        "    ]\n",
        ")"
      ]
    },
    {
      "cell_type": "code",
      "execution_count": 72,
      "id": "7a327957",
      "metadata": {
        "colab": {
          "base_uri": "https://localhost:8080/"
        },
        "id": "7a327957",
        "outputId": "6b9bfae2-71c2-4bfb-dc5a-67b375b6181c"
      },
      "outputs": [
        {
          "output_type": "stream",
          "name": "stdout",
          "text": [
            "Train size: 1862\n",
            "Valid size: 375\n",
            "Test size: 362\n"
          ]
        }
      ],
      "source": [
        "train_image_paths = list(map(lambda x: 'train/' + x, os.listdir('train')))\n",
        "valid_image_paths = list(map(lambda x: 'val/' + x, os.listdir('val')))\n",
        "test_image_paths = list(map(lambda x: 'test/' + x, os.listdir('test')))\n",
        "\n",
        "print(\"Train size: {}\\nValid size: {}\\nTest size: {}\".format(len(train_image_paths), len(valid_image_paths), len(test_image_paths)))"
      ]
    },
    {
      "cell_type": "code",
      "execution_count": 73,
      "id": "53f9fe0e",
      "metadata": {
        "id": "53f9fe0e"
      },
      "outputs": [],
      "source": [
        "class SymbolDataset(Dataset):\n",
        "    def __init__(self, image_paths, transform=False):\n",
        "        self.image_paths = image_paths\n",
        "        self.transform = transform\n",
        "        \n",
        "    def __len__(self):\n",
        "        return len(self.image_paths)\n",
        "\n",
        "    def __getitem__(self, idx):\n",
        "        image_filepath = self.image_paths[idx]\n",
        "        image = cv2.imread(image_filepath)\n",
        "        image = cv2.cvtColor(image, cv2.COLOR_BGR2RGB)\n",
        "        \n",
        "        label = int(image_filepath.split('_')[-1].split('.')[0])\n",
        "        if self.transform is not None:\n",
        "            image = self.transform(image=image)[\"image\"]\n",
        "        \n",
        "        return image, label\n",
        "\n",
        "train_dataset = SymbolDataset(train_image_paths,transforms)\n",
        "valid_dataset = SymbolDataset(valid_image_paths,transforms)\n",
        "test_dataset = SymbolDataset(test_image_paths,transforms)"
      ]
    },
    {
      "cell_type": "code",
      "execution_count": 74,
      "id": "a1774f30",
      "metadata": {
        "id": "a1774f30"
      },
      "outputs": [],
      "source": [
        "train_loader = DataLoader(\n",
        "    train_dataset, batch_size=16, shuffle=True\n",
        ")\n",
        "\n",
        "valid_loader = DataLoader(\n",
        "    valid_dataset, batch_size=16, shuffle=True\n",
        ")\n",
        "\n",
        "\n",
        "test_loader = DataLoader(\n",
        "    test_dataset, batch_size=16, shuffle=False\n",
        ")"
      ]
    },
    {
      "cell_type": "code",
      "execution_count": 75,
      "id": "6d45a701",
      "metadata": {
        "id": "6d45a701"
      },
      "outputs": [],
      "source": [
        "import torch.nn as nn\n",
        "import torch.nn.functional as F\n",
        "\n",
        "\n",
        "class Model(nn.Module):\n",
        "    def __init__(self):\n",
        "        super().__init__()\n",
        "        self.conv1 = nn.Conv2d(3, 6, 5)\n",
        "        self.pool = nn.MaxPool2d(2, 2)\n",
        "        self.conv2 = nn.Conv2d(6, 16, 5)\n",
        "        self.fc1 = nn.Linear(2704, 120)\n",
        "        self.fc2 = nn.Linear(120, 84)\n",
        "        self.fc3 = nn.Linear(84, 4)\n",
        "\n",
        "    def forward(self, x):\n",
        "        x = self.pool(F.relu(self.conv1(x)))\n",
        "        x = self.pool(F.relu(self.conv2(x)))\n",
        "        x = torch.flatten(x, 1) # flatten all dimensions except batch\n",
        "        x = F.relu(self.fc1(x))\n",
        "        x = F.relu(self.fc2(x))\n",
        "        x = self.fc3(x)\n",
        "        return x\n",
        "\n",
        "\n",
        "model = Model()"
      ]
    },
    {
      "cell_type": "code",
      "execution_count": 76,
      "id": "6fc58dde",
      "metadata": {
        "id": "6fc58dde"
      },
      "outputs": [],
      "source": [
        "import torch.optim as optim\n",
        "\n",
        "criterion = nn.CrossEntropyLoss()\n",
        "optimizer = optim.SGD(model.parameters(), lr=0.0001, momentum=0.9)"
      ]
    },
    {
      "cell_type": "code",
      "execution_count": 77,
      "id": "e188827a",
      "metadata": {
        "id": "e188827a"
      },
      "outputs": [],
      "source": [
        "# Code for validation and testing\n",
        "def test(model, data_loader, criterion):\n",
        "    running_loss = 0.0\n",
        "    correct = 0\n",
        "    total = 0\n",
        "    \n",
        "    model.eval()\n",
        "    \n",
        "    for data in data_loader:\n",
        "        inputs, labels = data\n",
        "        \n",
        "        outputs = model(inputs)\n",
        "        \n",
        "        preds_bool = torch.argmax(outputs, dim=1).numpy() == labels.numpy()\n",
        "        correct += np.sum(preds_bool)\n",
        "        total += preds_bool.size\n",
        "\n",
        "        loss = criterion(outputs, labels)\n",
        "        running_loss += loss.item()\n",
        "        \n",
        "    test_loss = running_loss / len(data_loader)\n",
        "    test_acc = correct / total\n",
        "\n",
        "    return test_loss, test_acc"
      ]
    },
    {
      "cell_type": "code",
      "execution_count": 78,
      "id": "22941ab3",
      "metadata": {
        "colab": {
          "base_uri": "https://localhost:8080/"
        },
        "id": "22941ab3",
        "outputId": "85e7c8a9-2dac-4d10-e2d9-ed1e312e2bc9"
      },
      "outputs": [
        {
          "output_type": "stream",
          "name": "stdout",
          "text": [
            "Epoch 5 train - loss: 1.3834453760049281 acc: 0.3050483351235231\n",
            "Epoch 5 val - loss: 1.3839512169361115 acc: 0.25066666666666665\n",
            "Epoch 10 train - loss: 1.3800691213363256 acc: 0.31203007518796994\n",
            "Epoch 10 val - loss: 1.3825171291828156 acc: 0.2693333333333333\n",
            "Epoch 15 train - loss: 1.3748392946699746 acc: 0.3297529538131042\n",
            "Epoch 15 val - loss: 1.3779383252064388 acc: 0.31733333333333336\n",
            "Epoch 20 train - loss: 1.3642271685804057 acc: 0.359828141783029\n",
            "Epoch 20 val - loss: 1.3723266472419102 acc: 0.304\n",
            "Epoch 25 train - loss: 1.3491789734261668 acc: 0.3576799140708915\n",
            "Epoch 25 val - loss: 1.3647384196519852 acc: 0.31733333333333336\n",
            "Epoch 30 train - loss: 1.3240259457857182 acc: 0.3936627282491944\n",
            "Epoch 30 val - loss: 1.3371206025282543 acc: 0.376\n",
            "Epoch 35 train - loss: 1.2745752059496367 acc: 0.45703544575725025\n",
            "Epoch 35 val - loss: 1.3129372050364811 acc: 0.35733333333333334\n",
            "Epoch 40 train - loss: 1.1628835440700889 acc: 0.5553168635875403\n",
            "Epoch 40 val - loss: 1.2091723730166752 acc: 0.47733333333333333\n",
            "Epoch 45 train - loss: 0.8440149487593235 acc: 0.706766917293233\n",
            "Epoch 45 val - loss: 0.8404559294382731 acc: 0.6933333333333334\n",
            "Epoch 50 train - loss: 0.5941439691262368 acc: 0.7733619763694952\n",
            "Epoch 50 val - loss: 0.6633075649539629 acc: 0.744\n",
            "Epoch 55 train - loss: 0.4628800256894185 acc: 0.8243823845327605\n",
            "Epoch 55 val - loss: 0.5718042763570944 acc: 0.7626666666666667\n",
            "Epoch 60 train - loss: 0.4211098159480299 acc: 0.8308270676691729\n",
            "Epoch 60 val - loss: 0.5141627572787305 acc: 0.8053333333333333\n",
            "Epoch 65 train - loss: 0.396145688672351 acc: 0.8506981740064447\n",
            "Epoch 65 val - loss: 0.48130530926088494 acc: 0.8026666666666666\n",
            "Epoch 70 train - loss: 0.349925642594313 acc: 0.8673469387755102\n",
            "Epoch 70 val - loss: 0.47009632270783186 acc: 0.8266666666666667\n",
            "Epoch 75 train - loss: 0.3241323168333779 acc: 0.878625134264232\n",
            "Epoch 75 val - loss: 0.44955637274930876 acc: 0.832\n",
            "Epoch 80 train - loss: 0.2919660487936603 acc: 0.8952738990332976\n",
            "Epoch 80 val - loss: 0.41719292631993693 acc: 0.8586666666666667\n",
            "Epoch 85 train - loss: 0.2828031909516734 acc: 0.9027926960257787\n",
            "Epoch 85 val - loss: 0.3540449695040782 acc: 0.872\n",
            "Epoch 90 train - loss: 0.26223924211584604 acc: 0.9113856068743287\n",
            "Epoch 90 val - loss: 0.4014869363357623 acc: 0.8613333333333333\n",
            "Epoch 95 train - loss: 0.23386906219534895 acc: 0.9242749731471536\n",
            "Epoch 95 val - loss: 0.3976934887468815 acc: 0.8613333333333333\n",
            "Epoch 100 train - loss: 0.22998296666858542 acc: 0.9199785177228786\n",
            "Epoch 100 val - loss: 0.354614397433276 acc: 0.888\n",
            "Finished Training\n"
          ]
        }
      ],
      "source": [
        "# Code for training the model\n",
        "train_losses = []\n",
        "train_accs = []\n",
        "\n",
        "val_losses = []\n",
        "val_accs = []\n",
        "\n",
        "for epoch in range(1, 101):\n",
        "    running_loss = 0.0\n",
        "    correct = 0\n",
        "    total = 0\n",
        "    for data in train_loader:\n",
        "      inputs, labels = data\n",
        "      \n",
        "      optimizer.zero_grad()\n",
        "\n",
        "      outputs = model(inputs)\n",
        "      \n",
        "      preds_bool = torch.argmax(outputs, dim=1).numpy() == labels.numpy()\n",
        "      correct += np.sum(preds_bool)\n",
        "      total += preds_bool.size\n",
        "\n",
        "      loss = criterion(outputs, labels)\n",
        "      loss.backward()\n",
        "      \n",
        "      optimizer.step()\n",
        "\n",
        "      running_loss += loss.item()\n",
        "    \n",
        "    train_acc = correct / total\n",
        "    train_accs.append(train_acc)\n",
        "    \n",
        "    train_loss = running_loss / len(train_loader)\n",
        "    train_losses.append(train_loss)\n",
        "    \n",
        "    val_loss, val_acc = test(model, valid_loader, criterion)\n",
        "    val_losses.append(val_loss)\n",
        "    val_accs.append(val_acc)\n",
        "    \n",
        "    if epoch % 5 == 0:\n",
        "        print(f'Epoch {epoch} train - loss:', train_loss, 'acc:', train_acc)\n",
        "        print(f'Epoch {epoch} val - loss:', val_loss, 'acc:', val_acc)\n",
        "        \n",
        "        \n",
        "print('Finished Training')"
      ]
    },
    {
      "cell_type": "code",
      "execution_count": 83,
      "id": "8e5fecff",
      "metadata": {
        "colab": {
          "base_uri": "https://localhost:8080/",
          "height": 472
        },
        "id": "8e5fecff",
        "outputId": "4893e475-c783-48b0-eaaf-17d7a2a86be2"
      },
      "outputs": [
        {
          "output_type": "display_data",
          "data": {
            "text/plain": [
              "<Figure size 640x480 with 1 Axes>"
            ],
            "image/png": "[encoded data removed]"
          },
          "metadata": {}
        }
      ],
      "source": [
        "# Model train/val losses\n",
        "plt.title('Model losses')\n",
        "\n",
        "plt.plot(train_losses)\n",
        "plt.plot(val_losses)\n",
        "\n",
        "plt.ylabel('Loss')\n",
        "plt.xlabel('Epoch')\n",
        "\n",
        "plt.legend(['Train', 'Validation'], loc='upper right')\n",
        "\n",
        "plt.show()"
      ]
    },
    {
      "cell_type": "code",
      "execution_count": 84,
      "id": "92e38603",
      "metadata": {
        "colab": {
          "base_uri": "https://localhost:8080/",
          "height": 472
        },
        "id": "92e38603",
        "outputId": "d9cc2498-6b2b-4f39-d550-56349c226f5b"
      },
      "outputs": [
        {
          "output_type": "display_data",
          "data": {
            "text/plain": [
              "<Figure size 640x480 with 1 Axes>"
            ],
            "image/png": "[encoded data removed]"
          },
          "metadata": {}
        }
      ],
      "source": [
        "# Model train/val accuracy\n",
        "plt.title('Model accuracy')\n",
        "\n",
        "plt.plot(train_accs)\n",
        "plt.plot(val_accs)\n",
        "\n",
        "plt.ylabel('Accuracy')\n",
        "plt.xlabel('Epoch')\n",
        "\n",
        "plt.legend(['Train', 'Validation'], loc='upper left')\n",
        "\n",
        "plt.show()"
      ]
    },
    {
      "cell_type": "code",
      "execution_count": 81,
      "id": "86b1306e",
      "metadata": {
        "id": "86b1306e"
      },
      "outputs": [],
      "source": [
        "test_loss, test_acc = test(model, test_loader, criterion)"
      ]
    },
    {
      "cell_type": "code",
      "execution_count": 82,
      "id": "63f15d11",
      "metadata": {
        "colab": {
          "base_uri": "https://localhost:8080/"
        },
        "id": "63f15d11",
        "outputId": "6933db67-6d40-4f57-ae66-d01e44e66d6d"
      },
      "outputs": [
        {
          "output_type": "stream",
          "name": "stdout",
          "text": [
            "Test loss: 0.36876132306845294\n",
            "Test acc: 0.8895027624309392\n"
          ]
        }
      ],
      "source": [
        "print('Test loss:', test_loss)\n",
        "print('Test acc:', test_acc)"
      ]
    },
    {
      "cell_type": "code",
      "execution_count": 85,
      "id": "96c7f730",
      "metadata": {
        "id": "96c7f730"
      },
      "outputs": [],
      "source": [
        "scripted_model = torch.jit.script(model)\n",
        "scripted_model.save('model_F.pt')"
      ]
    }
  ],
  "metadata": {
    "kernelspec": {
      "display_name": "Python 3 (ipykernel)",
      "language": "python",
      "name": "python3"
    },
    "language_info": {
      "codemirror_mode": {
        "name": "ipython",
        "version": 3
      },
      "file_extension": ".py",
      "mimetype": "text/x-python",
      "name": "python",
      "nbconvert_exporter": "python",
      "pygments_lexer": "ipython3",
      "version": "3.9.16"
    },
    "colab": {
      "provenance": []
    }
  },
  "nbformat": 4,
  "nbformat_minor": 5
}